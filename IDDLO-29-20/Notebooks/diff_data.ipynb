{
  "nbformat": 4,
  "nbformat_minor": 0,
  "metadata": {
    "kernelspec": {
      "display_name": "Python 3",
      "language": "python",
      "name": "python3"
    },
    "language_info": {
      "codemirror_mode": {
        "name": "ipython",
        "version": 3
      },
      "file_extension": ".py",
      "mimetype": "text/x-python",
      "name": "python",
      "nbconvert_exporter": "python",
      "pygments_lexer": "ipython3",
      "version": "3.7.6-final"
    },
    "nav_menu": {},
    "toc": {
      "navigate_menu": true,
      "number_sections": true,
      "sideBar": true,
      "threshold": 6,
      "toc_cell": false,
      "toc_section_display": "block",
      "toc_window_display": true
    },
    "toc_position": {
      "height": "616px",
      "left": "0px",
      "right": "20px",
      "top": "106px",
      "width": "213px"
    },
    "colab": {
      "name": "Linear_Regression.ipynb",
      "provenance": [],
      "include_colab_link": true
    }
  },
  "cells": [
    {
      "cell_type": "markdown",
      "metadata": {
        "id": "view-in-github",
        "colab_type": "text"
      },
      "source": [
        "<a href=\"https://colab.research.google.com/github/8johan/devoir/blob/main/IDDLO-29-20/Notebooks/diff_data.ipynb\" target=\"_parent\"><img src=\"https://colab.research.google.com/assets/colab-badge.svg\" alt=\"Open In Colab\"/></a>"
      ]
    },
    {
      "cell_type": "markdown",
      "metadata": {
        "id": "DaOHIvnUaC1p"
      },
      "source": [
        "<table align=\"left\">\n",
        "  <td>\n",
        "    <a target=\"_blank\" href=\"https://colab.research.google.com/github/AbdelMahm/FSR/blob/master/IDDLO-29-20/Notebooks/Linear_Regression.ipynb\"><img src=\"https://colab.research.google.com/img/colab_favicon_256px.png\" />Run in Google Colab</a>\n",
        "  </td>\n",
        "</table>"
      ]
    },
    {
      "cell_type": "markdown",
      "metadata": {
        "id": "R4WnqIRbaC12"
      },
      "source": [
        "# Linear Regression"
      ]
    },
    {
      "cell_type": "markdown",
      "metadata": {
        "id": "4A5PBMigaC14"
      },
      "source": [
        "## imports"
      ]
    },
    {
      "cell_type": "code",
      "metadata": {
        "collapsed": true,
        "id": "lFjNSdJQaC16",
        "outputId": "f214a3de-fbdc-47f5-b662-1058bff9af27",
        "colab": {
          "base_uri": "https://localhost:8080/"
        }
      },
      "source": [
        "import sys\n",
        "import sklearn\n",
        "import os\n",
        "%matplotlib inline\n",
        "import matplotlib as mpl\n",
        "import matplotlib.pyplot as plt\n",
        "import numpy as np\n",
        "import pandas as pd\n",
        "import sklearn.linear_model\n",
        "import urllib.request\n",
        "from sklearn import preprocessing\n",
        "from sklearn import pipeline\n",
        "from pandas import read_csv\n",
        "!pip install fsspec"
      ],
      "execution_count": 1,
      "outputs": [
        {
          "output_type": "stream",
          "name": "stdout",
          "text": [
            "Collecting fsspec\n",
            "  Downloading fsspec-2021.11.0-py3-none-any.whl (132 kB)\n",
            "\u001b[?25l\r\u001b[K     |██▌                             | 10 kB 17.2 MB/s eta 0:00:01\r\u001b[K     |█████                           | 20 kB 21.8 MB/s eta 0:00:01\r\u001b[K     |███████▍                        | 30 kB 14.0 MB/s eta 0:00:01\r\u001b[K     |██████████                      | 40 kB 10.3 MB/s eta 0:00:01\r\u001b[K     |████████████▍                   | 51 kB 7.7 MB/s eta 0:00:01\r\u001b[K     |██████████████▉                 | 61 kB 6.8 MB/s eta 0:00:01\r\u001b[K     |█████████████████▎              | 71 kB 6.7 MB/s eta 0:00:01\r\u001b[K     |███████████████████▉            | 81 kB 7.4 MB/s eta 0:00:01\r\u001b[K     |██████████████████████▎         | 92 kB 6.7 MB/s eta 0:00:01\r\u001b[K     |████████████████████████▊       | 102 kB 7.2 MB/s eta 0:00:01\r\u001b[K     |███████████████████████████▏    | 112 kB 7.2 MB/s eta 0:00:01\r\u001b[K     |█████████████████████████████▊  | 122 kB 7.2 MB/s eta 0:00:01\r\u001b[K     |████████████████████████████████| 132 kB 7.2 MB/s \n",
            "\u001b[?25hInstalling collected packages: fsspec\n",
            "Successfully installed fsspec-2021.11.0\n"
          ]
        }
      ]
    },
    {
      "cell_type": "markdown",
      "metadata": {
        "id": "58SlrfthaC19"
      },
      "source": [
        "## Download data"
      ]
    },
    {
      "cell_type": "code",
      "metadata": {
        "id": "AZ1ajHMAaC1-"
      },
      "source": [
        "import urllib.request\n",
        "import requests\n",
        "data_path = os.path.join(\"project_8_predict_weight\", \"\")\n",
        "import pandas as pd\n",
        "url = \"https://raw.githubusercontent.com/omairaasim/machine_learning/master/project_8_predict_weight/\"\n",
        "dataset = pd.read_csv(\"https://raw.githubusercontent.com/omairaasim/machine_learning/master/project_8_predict_weight/Height_Weight_single_variable_data_101_series_1.0.csv\")\n",
        "os.makedirs(data_path, exist_ok=True)\n",
        "\n",
        "\n"
      ],
      "execution_count": 142,
      "outputs": []
    },
    {
      "cell_type": "code",
      "metadata": {
        "collapsed": true,
        "id": "vDzZLuNgaC2A"
      },
      "source": [
        ""
      ],
      "execution_count": null,
      "outputs": []
    },
    {
      "cell_type": "code",
      "metadata": {
        "scrolled": true,
        "id": "pFU3jWBmaC2C",
        "outputId": "ff675aa3-c907-4dbb-9dd1-252cc5bbac62",
        "colab": {
          "base_uri": "https://localhost:8080/",
          "height": 204
        }
      },
      "source": [
        "#take a look to the first file\n",
        "dataset.head()"
      ],
      "execution_count": 143,
      "outputs": [
        {
          "output_type": "execute_result",
          "data": {
            "text/html": [
              "<div>\n",
              "<style scoped>\n",
              "    .dataframe tbody tr th:only-of-type {\n",
              "        vertical-align: middle;\n",
              "    }\n",
              "\n",
              "    .dataframe tbody tr th {\n",
              "        vertical-align: top;\n",
              "    }\n",
              "\n",
              "    .dataframe thead th {\n",
              "        text-align: right;\n",
              "    }\n",
              "</style>\n",
              "<table border=\"1\" class=\"dataframe\">\n",
              "  <thead>\n",
              "    <tr style=\"text-align: right;\">\n",
              "      <th></th>\n",
              "      <th>Height</th>\n",
              "      <th>Weight</th>\n",
              "    </tr>\n",
              "  </thead>\n",
              "  <tbody>\n",
              "    <tr>\n",
              "      <th>0</th>\n",
              "      <td>121.92</td>\n",
              "      <td>28.0</td>\n",
              "    </tr>\n",
              "    <tr>\n",
              "      <th>1</th>\n",
              "      <td>124.46</td>\n",
              "      <td>28.1</td>\n",
              "    </tr>\n",
              "    <tr>\n",
              "      <th>2</th>\n",
              "      <td>127.00</td>\n",
              "      <td>28.2</td>\n",
              "    </tr>\n",
              "    <tr>\n",
              "      <th>3</th>\n",
              "      <td>129.54</td>\n",
              "      <td>28.3</td>\n",
              "    </tr>\n",
              "    <tr>\n",
              "      <th>4</th>\n",
              "      <td>132.08</td>\n",
              "      <td>28.4</td>\n",
              "    </tr>\n",
              "  </tbody>\n",
              "</table>\n",
              "</div>"
            ],
            "text/plain": [
              "   Height  Weight\n",
              "0  121.92    28.0\n",
              "1  124.46    28.1\n",
              "2  127.00    28.2\n",
              "3  129.54    28.3\n",
              "4  132.08    28.4"
            ]
          },
          "metadata": {},
          "execution_count": 143
        }
      ]
    },
    {
      "cell_type": "markdown",
      "metadata": {
        "id": "miAIqrubaC2D"
      },
      "source": [
        "## Preprocessing"
      ]
    },
    {
      "cell_type": "markdown",
      "metadata": {
        "id": "T6BOeJQxaC2J"
      },
      "source": [
        "## Linear Regression Model"
      ]
    },
    {
      "cell_type": "code",
      "metadata": {
        "id": "cj4Ln9GHaC2K",
        "outputId": "0125a617-e870-42f5-8461-6481f81f4cf8",
        "colab": {
          "base_uri": "https://localhost:8080/",
          "height": 204
        }
      },
      "source": [
        "dataset.head()"
      ],
      "execution_count": 144,
      "outputs": [
        {
          "output_type": "execute_result",
          "data": {
            "text/html": [
              "<div>\n",
              "<style scoped>\n",
              "    .dataframe tbody tr th:only-of-type {\n",
              "        vertical-align: middle;\n",
              "    }\n",
              "\n",
              "    .dataframe tbody tr th {\n",
              "        vertical-align: top;\n",
              "    }\n",
              "\n",
              "    .dataframe thead th {\n",
              "        text-align: right;\n",
              "    }\n",
              "</style>\n",
              "<table border=\"1\" class=\"dataframe\">\n",
              "  <thead>\n",
              "    <tr style=\"text-align: right;\">\n",
              "      <th></th>\n",
              "      <th>Height</th>\n",
              "      <th>Weight</th>\n",
              "    </tr>\n",
              "  </thead>\n",
              "  <tbody>\n",
              "    <tr>\n",
              "      <th>0</th>\n",
              "      <td>121.92</td>\n",
              "      <td>28.0</td>\n",
              "    </tr>\n",
              "    <tr>\n",
              "      <th>1</th>\n",
              "      <td>124.46</td>\n",
              "      <td>28.1</td>\n",
              "    </tr>\n",
              "    <tr>\n",
              "      <th>2</th>\n",
              "      <td>127.00</td>\n",
              "      <td>28.2</td>\n",
              "    </tr>\n",
              "    <tr>\n",
              "      <th>3</th>\n",
              "      <td>129.54</td>\n",
              "      <td>28.3</td>\n",
              "    </tr>\n",
              "    <tr>\n",
              "      <th>4</th>\n",
              "      <td>132.08</td>\n",
              "      <td>28.4</td>\n",
              "    </tr>\n",
              "  </tbody>\n",
              "</table>\n",
              "</div>"
            ],
            "text/plain": [
              "   Height  Weight\n",
              "0  121.92    28.0\n",
              "1  124.46    28.1\n",
              "2  127.00    28.2\n",
              "3  129.54    28.3\n",
              "4  132.08    28.4"
            ]
          },
          "metadata": {},
          "execution_count": 144
        }
      ]
    },
    {
      "cell_type": "markdown",
      "metadata": {
        "id": "5JWlR6PsaC2L"
      },
      "source": [
        "### Select some features"
      ]
    },
    {
      "cell_type": "code",
      "metadata": {
        "id": "F9zW9V8LaC2L",
        "outputId": "5662c824-d073-410b-bdd8-1ae60ccdfc03",
        "colab": {
          "base_uri": "https://localhost:8080/"
        }
      },
      "source": [
        "#select the features you are interested in\n",
        "X = np.c_[dataset[\"Height\"]]\n",
        "y = np.c_[dataset[\"Weight\"]]\n",
        "np.shape(X)"
      ],
      "execution_count": 145,
      "outputs": [
        {
          "output_type": "execute_result",
          "data": {
            "text/plain": [
              "(35, 1)"
            ]
          },
          "metadata": {},
          "execution_count": 145
        }
      ]
    },
    {
      "cell_type": "markdown",
      "metadata": {
        "id": "NX_WeQy2aC2M"
      },
      "source": [
        "### Visualization"
      ]
    },
    {
      "cell_type": "code",
      "metadata": {
        "id": "ZG7XNluYaC2M",
        "outputId": "6bc8b31e-bbb1-490e-97d2-84e46d3e77e6",
        "colab": {
          "base_uri": "https://localhost:8080/",
          "height": 237
        }
      },
      "source": [
        "# Visualize the sample data\n",
        "mpl.rc('axes', labelsize=14)\n",
        "mpl.rc('xtick', labelsize=12)\n",
        "mpl.rc('ytick', labelsize=12)\n",
        "\n",
        "dataset.plot(kind='scatter', x=\"Height\", y='Weight', figsize=(5,3))\n",
        "plt.axis([0,200, 0, 100])\n",
        "\n",
        "plt.xlabel(\"Height\")\n",
        "\n",
        "plt.show()\n",
        "#"
      ],
      "execution_count": 146,
      "outputs": [
        {
          "output_type": "display_data",
          "data": {
            "image/png": "[encoded data removed]",
            "text/plain": [
              "<Figure size 360x216 with 1 Axes>"
            ]
          },
          "metadata": {
            "needs_background": "light"
          }
        }
      ]
    },
    {
      "cell_type": "markdown",
      "metadata": {
        "id": "h0QAjjtfaC2O"
      },
      "source": [
        "### Training"
      ]
    },
    {
      "cell_type": "code",
      "metadata": {
        "id": "FWbocA5daC2Q",
        "outputId": "41190b53-f6d7-4962-c090-9b2c1c8a591d",
        "colab": {
          "base_uri": "https://localhost:8080/"
        }
      },
      "source": [
        "lrModel = sklearn.linear_model.LinearRegression()\n",
        "\n",
        "# Train the model\n",
        "lrModel.fit(X, y)\n",
        "print(X)\n",
        "#model parameters\n",
        "w0, w1 = lrModel.intercept_[0], lrModel.coef_[0][0]\n",
        "\n",
        "#R2 (when R2=1, all data is fit -> the Loss(w)=0)\n",
        "print(lrModel.score(X, y))"
      ],
      "execution_count": 147,
      "outputs": [
        {
          "output_type": "stream",
          "name": "stdout",
          "text": [
            "[[121.92]\n",
            " [124.46]\n",
            " [127.  ]\n",
            " [129.54]\n",
            " [132.08]\n",
            " [134.62]\n",
            " [137.16]\n",
            " [139.7 ]\n",
            " [142.24]\n",
            " [144.78]\n",
            " [147.32]\n",
            " [149.86]\n",
            " [152.4 ]\n",
            " [154.94]\n",
            " [157.48]\n",
            " [160.02]\n",
            " [162.56]\n",
            " [165.1 ]\n",
            " [167.64]\n",
            " [170.18]\n",
            " [172.72]\n",
            " [175.26]\n",
            " [177.8 ]\n",
            " [180.34]\n",
            " [182.88]\n",
            " [185.42]\n",
            " [187.96]\n",
            " [190.5 ]\n",
            " [193.04]\n",
            " [195.58]\n",
            " [198.12]\n",
            " [200.66]\n",
            " [203.2 ]\n",
            " [205.  ]\n",
            " [208.  ]]\n",
            "0.9949028181951736\n"
          ]
        }
      ]
    },
    {
      "cell_type": "code",
      "metadata": {
        "id": "Z7WuKOkgaC2R",
        "outputId": "56f781ad-7987-46ff-9874-795cabb07df0",
        "colab": {
          "base_uri": "https://localhost:8080/",
          "height": 237
        }
      },
      "source": [
        "#plot\n",
        "dataset.plot(kind='scatter', x=\"Height\", y='Weight', figsize=(5,3))\n",
        "\n",
        "plt.axis([0,200 , 0, 200])\n",
        "x=np.linspace(0, 200, 2000)\n",
        "plt.plot(x, w0 + w1*x, \"b\")\n",
        "\n",
        "#save_fig('best_fit_model_plot')\n",
        "plt.show()"
      ],
      "execution_count": 148,
      "outputs": [
        {
          "output_type": "display_data",
          "data": {
            "image/png": "[encoded data removed]",
            "text/plain": [
              "<Figure size 360x216 with 1 Axes>"
            ]
          },
          "metadata": {
            "needs_background": "light"
          }
        }
      ]
    },
    {
      "cell_type": "markdown",
      "metadata": {
        "id": "MkKRX8QaaC2T"
      },
      "source": [
        "### Prediction"
      ]
    },
    {
      "cell_type": "code",
      "metadata": {
        "id": "-tzwQLZ1aC2T",
        "outputId": "a7c21c8a-38fb-4616-c5fa-493c3fba6be3",
        "colab": {
          "base_uri": "https://localhost:8080/"
        }
      },
      "source": [
        "# Make a prediction for Cyprus\n",
        "X_new = [[22587]]  # Cyprus' GDP per capita\n",
        "print(lrModel.predict(X_new)) # outputs [[ 5.96242338]]"
      ],
      "execution_count": 149,
      "outputs": [
        {
          "output_type": "stream",
          "name": "stdout",
          "text": [
            "[[21588.27255271]]\n"
          ]
        }
      ]
    },
    {
      "cell_type": "markdown",
      "metadata": {
        "id": "w1dOiqZ4aC2U"
      },
      "source": [
        "## Add polynomial features"
      ]
    },
    {
      "cell_type": "code",
      "metadata": {
        "id": "3VDvHkpWaC2U",
        "outputId": "1889d592-40f8-47b3-80ea-b64e305f4880",
        "colab": {
          "base_uri": "https://localhost:8080/"
        }
      },
      "source": [
        "poly = preprocessing.PolynomialFeatures(degree=5, include_bias=False)\n",
        "scaler = preprocessing.StandardScaler()\n",
        "\n",
        "pipelineLRModel = pipeline.Pipeline([('poly', poly), ('scal', scaler), ('lin', lrModel)])\n",
        "np.shape(X)\n",
        "np.shape(y)\n",
        "pipelineLRModel.fit(X, y)"
      ],
      "execution_count": 150,
      "outputs": [
        {
          "output_type": "execute_result",
          "data": {
            "text/plain": [
              "Pipeline(memory=None,\n",
              "         steps=[('poly',\n",
              "                 PolynomialFeatures(degree=5, include_bias=False,\n",
              "                                    interaction_only=False, order='C')),\n",
              "                ('scal',\n",
              "                 StandardScaler(copy=True, with_mean=True, with_std=True)),\n",
              "                ('lin',\n",
              "                 LinearRegression(copy_X=True, fit_intercept=True, n_jobs=None,\n",
              "                                  normalize=False))],\n",
              "         verbose=False)"
            ]
          },
          "metadata": {},
          "execution_count": 150
        }
      ]
    },
    {
      "cell_type": "code",
      "metadata": {
        "id": "u4jnM-ufaC2V",
        "outputId": "a47c94fc-c7dc-4125-e083-6ae26772d950",
        "colab": {
          "base_uri": "https://localhost:8080/",
          "height": 237
        }
      },
      "source": [
        "dataset.plot(kind='scatter', x='Height', y='Weight', figsize=(8,3))\n",
        "plt.axis([0,200, 0, 100])\n",
        "\n",
        "curve = pipelineLRModel.predict(X)\n",
        "plt.plot(X, curve)\n",
        "plt.xlabel(\"GDP per capita (USD)\")\n",
        "plt.show()\n"
      ],
      "execution_count": 151,
      "outputs": [
        {
          "output_type": "display_data",
          "data": {
            "image/png": "[encoded data removed]",
            "text/plain": [
              "<Figure size 576x216 with 1 Axes>"
            ]
          },
          "metadata": {
            "needs_background": "light"
          }
        }
      ]
    },
    {
      "cell_type": "code",
      "metadata": {
        "id": "odfkk8LnaC2W",
        "outputId": "4a6a9e5a-7487-42a3-a1c2-2a6e62087f23",
        "colab": {
          "base_uri": "https://localhost:8080/"
        }
      },
      "source": [
        "#R2\n",
        "print(pipelineLRModel.score(X, y))"
      ],
      "execution_count": 152,
      "outputs": [
        {
          "output_type": "stream",
          "name": "stdout",
          "text": [
            "0.999035963407822\n"
          ]
        }
      ]
    },
    {
      "cell_type": "markdown",
      "metadata": {
        "id": "atFmm3ePaC2X"
      },
      "source": [
        "### Regularization (Ridge)"
      ]
    },
    {
      "cell_type": "code",
      "metadata": {
        "collapsed": true,
        "id": "FITM3-F2aC2Y",
        "outputId": "46bd023a-edf2-4bdc-9a91-057ad4a27a36",
        "colab": {
          "base_uri": "https://localhost:8080/"
        }
      },
      "source": [
        "lrModelRidge = sklearn.linear_model.Ridge(alpha=10**5) # alpha == lambda notation in the course\n",
        "Xsample = np.c_[dataset[\"Height\"]]\n",
        "ysample = np.c_[dataset[\"Weight\"]]\n",
        "lrModelRidge.fit(Xsample, ysample)\n",
        "w0ridge, w1ridge = lrModelRidge.intercept_[0], lrModelRidge.coef_[0][0]\n",
        "print(w0ridge,w1ridge)"
      ],
      "execution_count": 153,
      "outputs": [
        {
          "output_type": "stream",
          "name": "stdout",
          "text": [
            "33.22976007984444 0.17918857308124733\n"
          ]
        }
      ]
    },
    {
      "cell_type": "code",
      "metadata": {
        "id": "9ZwDt8PhaC2Z",
        "outputId": "be080d2c-dd05-4d65-f006-632f78acd0e3",
        "colab": {
          "base_uri": "https://localhost:8080/",
          "height": 237
        }
      },
      "source": [
        "f = plt.figure(figsize=(8,3))\n",
        "\n",
        "plt.xlabel(\"Height\")\n",
        "plt.ylabel('Weight')\n",
        "\n",
        "plt.plot(list(dataset[\"Height\"]), list(dataset[\"Weight\"]), \"bo\")\n",
        "\n",
        "x = np.linspace(0, 200, 300)\n",
        "plt.plot(x, w0 + w1*x, \"b:\", label=\"Linear model on sample data\")\n",
        "plt.plot(x, w0ridge + w1ridge * x, \"b\", label=\"Regularized linear model on sample data\")\n",
        "\n",
        "plt.legend(loc=\"lower right\")\n",
        "plt.axis([0, 200, 0, 300])\n",
        "plt.xlabel(\"GDP per capita (USD)\")\n",
        "\n",
        "plt.show()"
      ],
      "execution_count": 154,
      "outputs": [
        {
          "output_type": "display_data",
          "data": {
            "image/png": "[encoded data removed]",
            "text/plain": [
              "<Figure size 576x216 with 1 Axes>"
            ]
          },
          "metadata": {
            "needs_background": "light"
          }
        }
      ]
    },
    {
      "cell_type": "code",
      "metadata": {
        "id": "iOenMjEBaC2Z",
        "outputId": "0c6c63ee-cc20-40bd-ba79-8294195688e4",
        "colab": {
          "base_uri": "https://localhost:8080/"
        }
      },
      "source": [
        "#R2\n",
        "print(lrModelRidge.score(X, y))"
      ],
      "execution_count": 155,
      "outputs": [
        {
          "output_type": "stream",
          "name": "stdout",
          "text": [
            "0.336738503801872\n"
          ]
        }
      ]
    },
    {
      "cell_type": "markdown",
      "metadata": {
        "id": "RJl4C0sFJuVz"
      },
      "source": [
        "Regularization (lasso)"
      ]
    },
    {
      "cell_type": "markdown",
      "metadata": {
        "id": "owbHlft0aC2a"
      },
      "source": [
        "## Exercise"
      ]
    },
    {
      "cell_type": "code",
      "metadata": {
        "id": "6RLn_Yq9J6Kw",
        "outputId": "5b7685bd-e56b-42d6-ee18-c15a2adb3c7b",
        "colab": {
          "base_uri": "https://localhost:8080/"
        }
      },
      "source": [
        "from sklearn.linear_model import Lasso\n",
        "lrModellasso = sklearn.linear_model.Lasso(alpha=10**2) # alpha == lambda notation in the course\n",
        "Xsample = np.c_[dataset[\"Height\"]]\n",
        "ysample = np.c_[dataset[\"Weight\"]]\n",
        "lrModellasso.fit(Xsample, ysample)\n",
        "w0lasso, w1lasso = lrModellasso.intercept_, lrModellasso.coef_\n",
        "print(w0lasso,w1lasso)"
      ],
      "execution_count": 157,
      "outputs": [
        {
          "output_type": "stream",
          "name": "stdout",
          "text": [
            "[-70.4866127] [0.80750283]\n"
          ]
        }
      ]
    },
    {
      "cell_type": "code",
      "metadata": {
        "id": "1S3jle96J7js",
        "outputId": "5406e47e-b056-47af-cac3-27eca9c8c7e9",
        "colab": {
          "base_uri": "https://localhost:8080/",
          "height": 254
        }
      },
      "source": [
        "f = plt.figure(figsize=(8,3))\n",
        "\n",
        "plt.xlabel(\"Height\")\n",
        "plt.ylabel('Weight')\n",
        "\n",
        "plt.plot(list(dataset[\"Height\"]), list(dataset[\"Weight\"]), \"bo\")\n",
        "\n",
        "x = np.linspace(0, 200, 300)\n",
        "plt.plot(x, w0 + w1*x, \"b:\", label=\"Linear model on sample data\")\n",
        "plt.plot(x, w0lasso + w1lasso * x, \"b\", label=\"Regularized linear model on sample data\")\n",
        "\n",
        "plt.legend(loc=\"lower right\")\n",
        "plt.axis([0, 200, 0, 300])\n",
        "plt.xlabel(\"Height\")\n",
        "print(w1)\n",
        "\n",
        "plt.show()"
      ],
      "execution_count": 159,
      "outputs": [
        {
          "output_type": "stream",
          "name": "stdout",
          "text": [
            "0.9600183750530673\n"
          ]
        },
        {
          "output_type": "display_data",
          "data": {
            "image/png": "[encoded data removed]",
            "text/plain": [
              "<Figure size 576x216 with 1 Axes>"
            ]
          },
          "metadata": {
            "needs_background": "light"
          }
        }
      ]
    },
    {
      "cell_type": "markdown",
      "metadata": {
        "id": "mIuho0waaC2a"
      },
      "source": [
        "### 1- try LASSO regularization\n",
        "### 2- try on different data\n",
        "### 3- try with more features\n",
        "### 4- tune the regularization hyper-parameter alpha (lambda in the course)"
      ]
    }
  ]
}