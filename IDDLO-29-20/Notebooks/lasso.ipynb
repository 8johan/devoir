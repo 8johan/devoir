{
  "nbformat": 4,
  "nbformat_minor": 0,
  "metadata": {
    "kernelspec": {
      "display_name": "Python 3",
      "language": "python",
      "name": "python3"
    },
    "language_info": {
      "codemirror_mode": {
        "name": "ipython",
        "version": 3
      },
      "file_extension": ".py",
      "mimetype": "text/x-python",
      "name": "python",
      "nbconvert_exporter": "python",
      "pygments_lexer": "ipython3",
      "version": "3.7.6-final"
    },
    "nav_menu": {},
    "toc": {
      "navigate_menu": true,
      "number_sections": true,
      "sideBar": true,
      "threshold": 6,
      "toc_cell": false,
      "toc_section_display": "block",
      "toc_window_display": true
    },
    "toc_position": {
      "height": "616px",
      "left": "0px",
      "right": "20px",
      "top": "106px",
      "width": "213px"
    },
    "colab": {
      "name": "Linear_Regression.ipynb",
      "provenance": [],
      "include_colab_link": true
    }
  },
  "cells": [
    {
      "cell_type": "markdown",
      "metadata": {
        "id": "view-in-github",
        "colab_type": "text"
      },
      "source": [
        "<a href=\"https://colab.research.google.com/github/8johan/devoir/blob/main/IDDLO-29-20/Notebooks/lasso.ipynb\" target=\"_parent\"><img src=\"https://colab.research.google.com/assets/colab-badge.svg\" alt=\"Open In Colab\"/></a>"
      ]
    },
    {
      "cell_type": "markdown",
      "metadata": {
        "id": "89D7Ml3xXRCA"
      },
      "source": [
        "<table align=\"left\">\n",
        "  <td>\n",
        "    <a target=\"_blank\" href=\"https://colab.research.google.com/github/AbdelMahm/FSR/blob/master/IDDLO-29-20/Notebooks/Linear_Regression.ipynb\"><img src=\"https://colab.research.google.com/img/colab_favicon_256px.png\" />Run in Google Colab</a>\n",
        "  </td>\n",
        "</table>"
      ]
    },
    {
      "cell_type": "markdown",
      "metadata": {
        "id": "r8PoDDjTXRCR"
      },
      "source": [
        "# Linear Regression"
      ]
    },
    {
      "cell_type": "markdown",
      "metadata": {
        "id": "K6bYHzWiXRCU"
      },
      "source": [
        "## imports"
      ]
    },
    {
      "cell_type": "code",
      "metadata": {
        "collapsed": true,
        "id": "hGgEf_x-XRCW"
      },
      "source": [
        "import sys\n",
        "import sklearn\n",
        "import os\n",
        "%matplotlib inline\n",
        "import matplotlib as mpl\n",
        "import matplotlib.pyplot as plt\n",
        "import numpy as np\n",
        "import pandas as pd\n",
        "import sklearn.linear_model\n",
        "import urllib.request\n",
        "from sklearn import preprocessing\n",
        "from sklearn import pipeline  \n",
        "from sklearn.linear_model import Lasso"
      ],
      "execution_count": 6,
      "outputs": []
    },
    {
      "cell_type": "markdown",
      "metadata": {
        "id": "dd5AjpqcXRCb"
      },
      "source": [
        "## Download data"
      ]
    },
    {
      "cell_type": "code",
      "metadata": {
        "colab": {
          "base_uri": "https://localhost:8080/"
        },
        "id": "j741TdlGXRCc",
        "outputId": "9a0efd40-0681-4731-f127-c9b9168476ec"
      },
      "source": [
        "import urllib.request\n",
        "data_path = os.path.join(\"datasets\", \"\")\n",
        "download_path = \"https://raw.githubusercontent.com/AbdelMahm/FSR/master/IDDLO-29-20/Notebooks/datasets/\"\n",
        "os.makedirs(data_path, exist_ok=True)\n",
        "for filename in (\"oecd_bli_2015.csv\", \"gdp_per_capita.csv\"):\n",
        "    print(\"Downloading\", filename)\n",
        "    url = download_path + filename\n",
        "    urllib.request.urlretrieve(url, data_path + filename)"
      ],
      "execution_count": 7,
      "outputs": [
        {
          "output_type": "stream",
          "name": "stdout",
          "text": [
            "Downloading oecd_bli_2015.csv\n",
            "Downloading gdp_per_capita.csv\n"
          ]
        }
      ]
    },
    {
      "cell_type": "code",
      "metadata": {
        "collapsed": true,
        "id": "J8la2nIYXRCd"
      },
      "source": [
        "oecd_bli = pd.read_csv(data_path + \"oecd_bli_2015.csv\", thousands=',')\n",
        "gdp_per_capita = pd.read_csv(data_path + \"gdp_per_capita.csv\",thousands=',',delimiter='\\t',\n",
        "                             encoding='latin1', na_values=\"n/a\")"
      ],
      "execution_count": 8,
      "outputs": []
    },
    {
      "cell_type": "code",
      "metadata": {
        "scrolled": true,
        "colab": {
          "base_uri": "https://localhost:8080/",
          "height": 513
        },
        "id": "t1I87q9lXRCg",
        "outputId": "83cc31c4-c7dc-4bba-a05b-a6bc905ad301"
      },
      "source": [
        "#take a look to the first file\n",
        "oecd_bli.head()"
      ],
      "execution_count": 9,
      "outputs": [
        {
          "output_type": "execute_result",
          "data": {
            "text/html": [
              "<div>\n",
              "<style scoped>\n",
              "    .dataframe tbody tr th:only-of-type {\n",
              "        vertical-align: middle;\n",
              "    }\n",
              "\n",
              "    .dataframe tbody tr th {\n",
              "        vertical-align: top;\n",
              "    }\n",
              "\n",
              "    .dataframe thead th {\n",
              "        text-align: right;\n",
              "    }\n",
              "</style>\n",
              "<table border=\"1\" class=\"dataframe\">\n",
              "  <thead>\n",
              "    <tr style=\"text-align: right;\">\n",
              "      <th></th>\n",
              "      <th>LOCATION</th>\n",
              "      <th>Country</th>\n",
              "      <th>INDICATOR</th>\n",
              "      <th>Indicator</th>\n",
              "      <th>MEASURE</th>\n",
              "      <th>Measure</th>\n",
              "      <th>INEQUALITY</th>\n",
              "      <th>Inequality</th>\n",
              "      <th>Unit Code</th>\n",
              "      <th>Unit</th>\n",
              "      <th>PowerCode Code</th>\n",
              "      <th>PowerCode</th>\n",
              "      <th>Reference Period Code</th>\n",
              "      <th>Reference Period</th>\n",
              "      <th>Value</th>\n",
              "      <th>Flag Codes</th>\n",
              "      <th>Flags</th>\n",
              "    </tr>\n",
              "  </thead>\n",
              "  <tbody>\n",
              "    <tr>\n",
              "      <th>0</th>\n",
              "      <td>AUS</td>\n",
              "      <td>Australia</td>\n",
              "      <td>HO_BASE</td>\n",
              "      <td>Dwellings without basic facilities</td>\n",
              "      <td>L</td>\n",
              "      <td>Value</td>\n",
              "      <td>TOT</td>\n",
              "      <td>Total</td>\n",
              "      <td>PC</td>\n",
              "      <td>Percentage</td>\n",
              "      <td>0</td>\n",
              "      <td>units</td>\n",
              "      <td>NaN</td>\n",
              "      <td>NaN</td>\n",
              "      <td>1.1</td>\n",
              "      <td>E</td>\n",
              "      <td>Estimated value</td>\n",
              "    </tr>\n",
              "    <tr>\n",
              "      <th>1</th>\n",
              "      <td>AUT</td>\n",
              "      <td>Austria</td>\n",
              "      <td>HO_BASE</td>\n",
              "      <td>Dwellings without basic facilities</td>\n",
              "      <td>L</td>\n",
              "      <td>Value</td>\n",
              "      <td>TOT</td>\n",
              "      <td>Total</td>\n",
              "      <td>PC</td>\n",
              "      <td>Percentage</td>\n",
              "      <td>0</td>\n",
              "      <td>units</td>\n",
              "      <td>NaN</td>\n",
              "      <td>NaN</td>\n",
              "      <td>1.0</td>\n",
              "      <td>NaN</td>\n",
              "      <td>NaN</td>\n",
              "    </tr>\n",
              "    <tr>\n",
              "      <th>2</th>\n",
              "      <td>BEL</td>\n",
              "      <td>Belgium</td>\n",
              "      <td>HO_BASE</td>\n",
              "      <td>Dwellings without basic facilities</td>\n",
              "      <td>L</td>\n",
              "      <td>Value</td>\n",
              "      <td>TOT</td>\n",
              "      <td>Total</td>\n",
              "      <td>PC</td>\n",
              "      <td>Percentage</td>\n",
              "      <td>0</td>\n",
              "      <td>units</td>\n",
              "      <td>NaN</td>\n",
              "      <td>NaN</td>\n",
              "      <td>2.0</td>\n",
              "      <td>NaN</td>\n",
              "      <td>NaN</td>\n",
              "    </tr>\n",
              "    <tr>\n",
              "      <th>3</th>\n",
              "      <td>CAN</td>\n",
              "      <td>Canada</td>\n",
              "      <td>HO_BASE</td>\n",
              "      <td>Dwellings without basic facilities</td>\n",
              "      <td>L</td>\n",
              "      <td>Value</td>\n",
              "      <td>TOT</td>\n",
              "      <td>Total</td>\n",
              "      <td>PC</td>\n",
              "      <td>Percentage</td>\n",
              "      <td>0</td>\n",
              "      <td>units</td>\n",
              "      <td>NaN</td>\n",
              "      <td>NaN</td>\n",
              "      <td>0.2</td>\n",
              "      <td>NaN</td>\n",
              "      <td>NaN</td>\n",
              "    </tr>\n",
              "    <tr>\n",
              "      <th>4</th>\n",
              "      <td>CZE</td>\n",
              "      <td>Czech Republic</td>\n",
              "      <td>HO_BASE</td>\n",
              "      <td>Dwellings without basic facilities</td>\n",
              "      <td>L</td>\n",
              "      <td>Value</td>\n",
              "      <td>TOT</td>\n",
              "      <td>Total</td>\n",
              "      <td>PC</td>\n",
              "      <td>Percentage</td>\n",
              "      <td>0</td>\n",
              "      <td>units</td>\n",
              "      <td>NaN</td>\n",
              "      <td>NaN</td>\n",
              "      <td>0.9</td>\n",
              "      <td>NaN</td>\n",
              "      <td>NaN</td>\n",
              "    </tr>\n",
              "  </tbody>\n",
              "</table>\n",
              "</div>"
            ],
            "text/plain": [
              "  LOCATION         Country INDICATOR  ... Value Flag Codes            Flags\n",
              "0      AUS       Australia   HO_BASE  ...   1.1          E  Estimated value\n",
              "1      AUT         Austria   HO_BASE  ...   1.0        NaN              NaN\n",
              "2      BEL         Belgium   HO_BASE  ...   2.0        NaN              NaN\n",
              "3      CAN          Canada   HO_BASE  ...   0.2        NaN              NaN\n",
              "4      CZE  Czech Republic   HO_BASE  ...   0.9        NaN              NaN\n",
              "\n",
              "[5 rows x 17 columns]"
            ]
          },
          "metadata": {},
          "execution_count": 9
        }
      ]
    },
    {
      "cell_type": "markdown",
      "metadata": {
        "id": "yUw_t91OXRCj"
      },
      "source": [
        "## Preprocessing"
      ]
    },
    {
      "cell_type": "code",
      "metadata": {
        "colab": {
          "base_uri": "https://localhost:8080/",
          "height": 357
        },
        "id": "RTOCuTCiXRCl",
        "outputId": "b115869d-2162-4a34-e718-92f63a6144ca"
      },
      "source": [
        "oecd_bli = oecd_bli[oecd_bli[\"INEQUALITY\"]==\"TOT\"]\n",
        "oecd_bli = oecd_bli.pivot(index=\"Country\", columns=\"Indicator\", values=\"Value\")\n",
        "oecd_bli.head()"
      ],
      "execution_count": 10,
      "outputs": [
        {
          "output_type": "execute_result",
          "data": {
            "text/html": [
              "<div>\n",
              "<style scoped>\n",
              "    .dataframe tbody tr th:only-of-type {\n",
              "        vertical-align: middle;\n",
              "    }\n",
              "\n",
              "    .dataframe tbody tr th {\n",
              "        vertical-align: top;\n",
              "    }\n",
              "\n",
              "    .dataframe thead th {\n",
              "        text-align: right;\n",
              "    }\n",
              "</style>\n",
              "<table border=\"1\" class=\"dataframe\">\n",
              "  <thead>\n",
              "    <tr style=\"text-align: right;\">\n",
              "      <th>Indicator</th>\n",
              "      <th>Air pollution</th>\n",
              "      <th>Assault rate</th>\n",
              "      <th>Consultation on rule-making</th>\n",
              "      <th>Dwellings without basic facilities</th>\n",
              "      <th>Educational attainment</th>\n",
              "      <th>Employees working very long hours</th>\n",
              "      <th>Employment rate</th>\n",
              "      <th>Homicide rate</th>\n",
              "      <th>Household net adjusted disposable income</th>\n",
              "      <th>Household net financial wealth</th>\n",
              "      <th>Housing expenditure</th>\n",
              "      <th>Job security</th>\n",
              "      <th>Life expectancy</th>\n",
              "      <th>Life satisfaction</th>\n",
              "      <th>Long-term unemployment rate</th>\n",
              "      <th>Personal earnings</th>\n",
              "      <th>Quality of support network</th>\n",
              "      <th>Rooms per person</th>\n",
              "      <th>Self-reported health</th>\n",
              "      <th>Student skills</th>\n",
              "      <th>Time devoted to leisure and personal care</th>\n",
              "      <th>Voter turnout</th>\n",
              "      <th>Water quality</th>\n",
              "      <th>Years in education</th>\n",
              "    </tr>\n",
              "    <tr>\n",
              "      <th>Country</th>\n",
              "      <th></th>\n",
              "      <th></th>\n",
              "      <th></th>\n",
              "      <th></th>\n",
              "      <th></th>\n",
              "      <th></th>\n",
              "      <th></th>\n",
              "      <th></th>\n",
              "      <th></th>\n",
              "      <th></th>\n",
              "      <th></th>\n",
              "      <th></th>\n",
              "      <th></th>\n",
              "      <th></th>\n",
              "      <th></th>\n",
              "      <th></th>\n",
              "      <th></th>\n",
              "      <th></th>\n",
              "      <th></th>\n",
              "      <th></th>\n",
              "      <th></th>\n",
              "      <th></th>\n",
              "      <th></th>\n",
              "      <th></th>\n",
              "    </tr>\n",
              "  </thead>\n",
              "  <tbody>\n",
              "    <tr>\n",
              "      <th>Australia</th>\n",
              "      <td>13.0</td>\n",
              "      <td>2.1</td>\n",
              "      <td>10.5</td>\n",
              "      <td>1.1</td>\n",
              "      <td>76.0</td>\n",
              "      <td>14.02</td>\n",
              "      <td>72.0</td>\n",
              "      <td>0.8</td>\n",
              "      <td>31588.0</td>\n",
              "      <td>47657.0</td>\n",
              "      <td>20.0</td>\n",
              "      <td>4.8</td>\n",
              "      <td>82.1</td>\n",
              "      <td>7.3</td>\n",
              "      <td>1.08</td>\n",
              "      <td>50449.0</td>\n",
              "      <td>92.0</td>\n",
              "      <td>2.3</td>\n",
              "      <td>85.0</td>\n",
              "      <td>512.0</td>\n",
              "      <td>14.41</td>\n",
              "      <td>93.0</td>\n",
              "      <td>91.0</td>\n",
              "      <td>19.4</td>\n",
              "    </tr>\n",
              "    <tr>\n",
              "      <th>Austria</th>\n",
              "      <td>27.0</td>\n",
              "      <td>3.4</td>\n",
              "      <td>7.1</td>\n",
              "      <td>1.0</td>\n",
              "      <td>83.0</td>\n",
              "      <td>7.61</td>\n",
              "      <td>72.0</td>\n",
              "      <td>0.4</td>\n",
              "      <td>31173.0</td>\n",
              "      <td>49887.0</td>\n",
              "      <td>21.0</td>\n",
              "      <td>3.9</td>\n",
              "      <td>81.0</td>\n",
              "      <td>6.9</td>\n",
              "      <td>1.19</td>\n",
              "      <td>45199.0</td>\n",
              "      <td>89.0</td>\n",
              "      <td>1.6</td>\n",
              "      <td>69.0</td>\n",
              "      <td>500.0</td>\n",
              "      <td>14.46</td>\n",
              "      <td>75.0</td>\n",
              "      <td>94.0</td>\n",
              "      <td>17.0</td>\n",
              "    </tr>\n",
              "    <tr>\n",
              "      <th>Belgium</th>\n",
              "      <td>21.0</td>\n",
              "      <td>6.6</td>\n",
              "      <td>4.5</td>\n",
              "      <td>2.0</td>\n",
              "      <td>72.0</td>\n",
              "      <td>4.57</td>\n",
              "      <td>62.0</td>\n",
              "      <td>1.1</td>\n",
              "      <td>28307.0</td>\n",
              "      <td>83876.0</td>\n",
              "      <td>21.0</td>\n",
              "      <td>5.0</td>\n",
              "      <td>80.5</td>\n",
              "      <td>6.9</td>\n",
              "      <td>3.88</td>\n",
              "      <td>48082.0</td>\n",
              "      <td>94.0</td>\n",
              "      <td>2.2</td>\n",
              "      <td>74.0</td>\n",
              "      <td>509.0</td>\n",
              "      <td>15.71</td>\n",
              "      <td>89.0</td>\n",
              "      <td>87.0</td>\n",
              "      <td>18.9</td>\n",
              "    </tr>\n",
              "    <tr>\n",
              "      <th>Brazil</th>\n",
              "      <td>18.0</td>\n",
              "      <td>7.9</td>\n",
              "      <td>4.0</td>\n",
              "      <td>6.7</td>\n",
              "      <td>45.0</td>\n",
              "      <td>10.41</td>\n",
              "      <td>67.0</td>\n",
              "      <td>25.5</td>\n",
              "      <td>11664.0</td>\n",
              "      <td>6844.0</td>\n",
              "      <td>21.0</td>\n",
              "      <td>4.6</td>\n",
              "      <td>73.7</td>\n",
              "      <td>7.0</td>\n",
              "      <td>1.97</td>\n",
              "      <td>17177.0</td>\n",
              "      <td>90.0</td>\n",
              "      <td>1.6</td>\n",
              "      <td>69.0</td>\n",
              "      <td>402.0</td>\n",
              "      <td>14.97</td>\n",
              "      <td>79.0</td>\n",
              "      <td>72.0</td>\n",
              "      <td>16.3</td>\n",
              "    </tr>\n",
              "    <tr>\n",
              "      <th>Canada</th>\n",
              "      <td>15.0</td>\n",
              "      <td>1.3</td>\n",
              "      <td>10.5</td>\n",
              "      <td>0.2</td>\n",
              "      <td>89.0</td>\n",
              "      <td>3.94</td>\n",
              "      <td>72.0</td>\n",
              "      <td>1.5</td>\n",
              "      <td>29365.0</td>\n",
              "      <td>67913.0</td>\n",
              "      <td>21.0</td>\n",
              "      <td>6.4</td>\n",
              "      <td>81.5</td>\n",
              "      <td>7.3</td>\n",
              "      <td>0.90</td>\n",
              "      <td>46911.0</td>\n",
              "      <td>92.0</td>\n",
              "      <td>2.5</td>\n",
              "      <td>89.0</td>\n",
              "      <td>522.0</td>\n",
              "      <td>14.25</td>\n",
              "      <td>61.0</td>\n",
              "      <td>91.0</td>\n",
              "      <td>17.2</td>\n",
              "    </tr>\n",
              "  </tbody>\n",
              "</table>\n",
              "</div>"
            ],
            "text/plain": [
              "Indicator  Air pollution  Assault rate  ...  Water quality  Years in education\n",
              "Country                                 ...                                   \n",
              "Australia           13.0           2.1  ...           91.0                19.4\n",
              "Austria             27.0           3.4  ...           94.0                17.0\n",
              "Belgium             21.0           6.6  ...           87.0                18.9\n",
              "Brazil              18.0           7.9  ...           72.0                16.3\n",
              "Canada              15.0           1.3  ...           91.0                17.2\n",
              "\n",
              "[5 rows x 24 columns]"
            ]
          },
          "metadata": {},
          "execution_count": 10
        }
      ]
    },
    {
      "cell_type": "code",
      "metadata": {
        "colab": {
          "base_uri": "https://localhost:8080/",
          "height": 204
        },
        "id": "4L_t7YcTXRCm",
        "outputId": "3b847020-cd4d-493e-8abd-7f1d65533fba"
      },
      "source": [
        "#take a look to the first file\n",
        "gdp_per_capita.head()"
      ],
      "execution_count": 11,
      "outputs": [
        {
          "output_type": "execute_result",
          "data": {
            "text/html": [
              "<div>\n",
              "<style scoped>\n",
              "    .dataframe tbody tr th:only-of-type {\n",
              "        vertical-align: middle;\n",
              "    }\n",
              "\n",
              "    .dataframe tbody tr th {\n",
              "        vertical-align: top;\n",
              "    }\n",
              "\n",
              "    .dataframe thead th {\n",
              "        text-align: right;\n",
              "    }\n",
              "</style>\n",
              "<table border=\"1\" class=\"dataframe\">\n",
              "  <thead>\n",
              "    <tr style=\"text-align: right;\">\n",
              "      <th></th>\n",
              "      <th>Country</th>\n",
              "      <th>Subject Descriptor</th>\n",
              "      <th>Units</th>\n",
              "      <th>Scale</th>\n",
              "      <th>Country/Series-specific Notes</th>\n",
              "      <th>2015</th>\n",
              "      <th>Estimates Start After</th>\n",
              "    </tr>\n",
              "  </thead>\n",
              "  <tbody>\n",
              "    <tr>\n",
              "      <th>0</th>\n",
              "      <td>Afghanistan</td>\n",
              "      <td>Gross domestic product per capita, current prices</td>\n",
              "      <td>U.S. dollars</td>\n",
              "      <td>Units</td>\n",
              "      <td>See notes for:  Gross domestic product, curren...</td>\n",
              "      <td>599.994</td>\n",
              "      <td>2013.0</td>\n",
              "    </tr>\n",
              "    <tr>\n",
              "      <th>1</th>\n",
              "      <td>Albania</td>\n",
              "      <td>Gross domestic product per capita, current prices</td>\n",
              "      <td>U.S. dollars</td>\n",
              "      <td>Units</td>\n",
              "      <td>See notes for:  Gross domestic product, curren...</td>\n",
              "      <td>3995.383</td>\n",
              "      <td>2010.0</td>\n",
              "    </tr>\n",
              "    <tr>\n",
              "      <th>2</th>\n",
              "      <td>Algeria</td>\n",
              "      <td>Gross domestic product per capita, current prices</td>\n",
              "      <td>U.S. dollars</td>\n",
              "      <td>Units</td>\n",
              "      <td>See notes for:  Gross domestic product, curren...</td>\n",
              "      <td>4318.135</td>\n",
              "      <td>2014.0</td>\n",
              "    </tr>\n",
              "    <tr>\n",
              "      <th>3</th>\n",
              "      <td>Angola</td>\n",
              "      <td>Gross domestic product per capita, current prices</td>\n",
              "      <td>U.S. dollars</td>\n",
              "      <td>Units</td>\n",
              "      <td>See notes for:  Gross domestic product, curren...</td>\n",
              "      <td>4100.315</td>\n",
              "      <td>2014.0</td>\n",
              "    </tr>\n",
              "    <tr>\n",
              "      <th>4</th>\n",
              "      <td>Antigua and Barbuda</td>\n",
              "      <td>Gross domestic product per capita, current prices</td>\n",
              "      <td>U.S. dollars</td>\n",
              "      <td>Units</td>\n",
              "      <td>See notes for:  Gross domestic product, curren...</td>\n",
              "      <td>14414.302</td>\n",
              "      <td>2011.0</td>\n",
              "    </tr>\n",
              "  </tbody>\n",
              "</table>\n",
              "</div>"
            ],
            "text/plain": [
              "               Country  ... Estimates Start After\n",
              "0          Afghanistan  ...                2013.0\n",
              "1              Albania  ...                2010.0\n",
              "2              Algeria  ...                2014.0\n",
              "3               Angola  ...                2014.0\n",
              "4  Antigua and Barbuda  ...                2011.0\n",
              "\n",
              "[5 rows x 7 columns]"
            ]
          },
          "metadata": {},
          "execution_count": 11
        }
      ]
    },
    {
      "cell_type": "code",
      "metadata": {
        "colab": {
          "base_uri": "https://localhost:8080/",
          "height": 235
        },
        "id": "rKY1nY75XRCn",
        "outputId": "84983ebb-4323-4c15-b967-f6009d8f05eb"
      },
      "source": [
        "# Preprocessing of the data  (iterested with column \"2015\" which is the \"GDP per capita\")\n",
        "gdp_per_capita.rename(columns={\"2015\": \"GDP per capita\"}, inplace=True)\n",
        "gdp_per_capita.set_index(\"Country\", inplace=True)\n",
        "gdp_per_capita.head()"
      ],
      "execution_count": 12,
      "outputs": [
        {
          "output_type": "execute_result",
          "data": {
            "text/html": [
              "<div>\n",
              "<style scoped>\n",
              "    .dataframe tbody tr th:only-of-type {\n",
              "        vertical-align: middle;\n",
              "    }\n",
              "\n",
              "    .dataframe tbody tr th {\n",
              "        vertical-align: top;\n",
              "    }\n",
              "\n",
              "    .dataframe thead th {\n",
              "        text-align: right;\n",
              "    }\n",
              "</style>\n",
              "<table border=\"1\" class=\"dataframe\">\n",
              "  <thead>\n",
              "    <tr style=\"text-align: right;\">\n",
              "      <th></th>\n",
              "      <th>Subject Descriptor</th>\n",
              "      <th>Units</th>\n",
              "      <th>Scale</th>\n",
              "      <th>Country/Series-specific Notes</th>\n",
              "      <th>GDP per capita</th>\n",
              "      <th>Estimates Start After</th>\n",
              "    </tr>\n",
              "    <tr>\n",
              "      <th>Country</th>\n",
              "      <th></th>\n",
              "      <th></th>\n",
              "      <th></th>\n",
              "      <th></th>\n",
              "      <th></th>\n",
              "      <th></th>\n",
              "    </tr>\n",
              "  </thead>\n",
              "  <tbody>\n",
              "    <tr>\n",
              "      <th>Afghanistan</th>\n",
              "      <td>Gross domestic product per capita, current prices</td>\n",
              "      <td>U.S. dollars</td>\n",
              "      <td>Units</td>\n",
              "      <td>See notes for:  Gross domestic product, curren...</td>\n",
              "      <td>599.994</td>\n",
              "      <td>2013.0</td>\n",
              "    </tr>\n",
              "    <tr>\n",
              "      <th>Albania</th>\n",
              "      <td>Gross domestic product per capita, current prices</td>\n",
              "      <td>U.S. dollars</td>\n",
              "      <td>Units</td>\n",
              "      <td>See notes for:  Gross domestic product, curren...</td>\n",
              "      <td>3995.383</td>\n",
              "      <td>2010.0</td>\n",
              "    </tr>\n",
              "    <tr>\n",
              "      <th>Algeria</th>\n",
              "      <td>Gross domestic product per capita, current prices</td>\n",
              "      <td>U.S. dollars</td>\n",
              "      <td>Units</td>\n",
              "      <td>See notes for:  Gross domestic product, curren...</td>\n",
              "      <td>4318.135</td>\n",
              "      <td>2014.0</td>\n",
              "    </tr>\n",
              "    <tr>\n",
              "      <th>Angola</th>\n",
              "      <td>Gross domestic product per capita, current prices</td>\n",
              "      <td>U.S. dollars</td>\n",
              "      <td>Units</td>\n",
              "      <td>See notes for:  Gross domestic product, curren...</td>\n",
              "      <td>4100.315</td>\n",
              "      <td>2014.0</td>\n",
              "    </tr>\n",
              "    <tr>\n",
              "      <th>Antigua and Barbuda</th>\n",
              "      <td>Gross domestic product per capita, current prices</td>\n",
              "      <td>U.S. dollars</td>\n",
              "      <td>Units</td>\n",
              "      <td>See notes for:  Gross domestic product, curren...</td>\n",
              "      <td>14414.302</td>\n",
              "      <td>2011.0</td>\n",
              "    </tr>\n",
              "  </tbody>\n",
              "</table>\n",
              "</div>"
            ],
            "text/plain": [
              "                                                    Subject Descriptor  ... Estimates Start After\n",
              "Country                                                                 ...                      \n",
              "Afghanistan          Gross domestic product per capita, current prices  ...                2013.0\n",
              "Albania              Gross domestic product per capita, current prices  ...                2010.0\n",
              "Algeria              Gross domestic product per capita, current prices  ...                2014.0\n",
              "Angola               Gross domestic product per capita, current prices  ...                2014.0\n",
              "Antigua and Barbuda  Gross domestic product per capita, current prices  ...                2011.0\n",
              "\n",
              "[5 rows x 6 columns]"
            ]
          },
          "metadata": {},
          "execution_count": 12
        }
      ]
    },
    {
      "cell_type": "code",
      "metadata": {
        "collapsed": true,
        "id": "CyxXeQoFXRCo"
      },
      "source": [
        "#merge data  \n",
        "full_country_stats = pd.merge(left=oecd_bli, right=gdp_per_capita,\n",
        "                              left_index=True, right_index=True)\n",
        "full_country_stats.sort_values(by=\"GDP per capita\", inplace=True)\n",
        "\n",
        "data = full_country_stats[[\"GDP per capita\", 'Life satisfaction']]\n"
      ],
      "execution_count": 13,
      "outputs": []
    },
    {
      "cell_type": "markdown",
      "metadata": {
        "id": "3dpF4y_OXRCo"
      },
      "source": [
        "## Linear Regression Model"
      ]
    },
    {
      "cell_type": "code",
      "metadata": {
        "colab": {
          "base_uri": "https://localhost:8080/",
          "height": 235
        },
        "id": "ESuj8fMgXRCp",
        "outputId": "d75eb0d8-98e2-4b56-ba85-471a288519a9"
      },
      "source": [
        "data.head()"
      ],
      "execution_count": 14,
      "outputs": [
        {
          "output_type": "execute_result",
          "data": {
            "text/html": [
              "<div>\n",
              "<style scoped>\n",
              "    .dataframe tbody tr th:only-of-type {\n",
              "        vertical-align: middle;\n",
              "    }\n",
              "\n",
              "    .dataframe tbody tr th {\n",
              "        vertical-align: top;\n",
              "    }\n",
              "\n",
              "    .dataframe thead th {\n",
              "        text-align: right;\n",
              "    }\n",
              "</style>\n",
              "<table border=\"1\" class=\"dataframe\">\n",
              "  <thead>\n",
              "    <tr style=\"text-align: right;\">\n",
              "      <th></th>\n",
              "      <th>GDP per capita</th>\n",
              "      <th>Life satisfaction</th>\n",
              "    </tr>\n",
              "    <tr>\n",
              "      <th>Country</th>\n",
              "      <th></th>\n",
              "      <th></th>\n",
              "    </tr>\n",
              "  </thead>\n",
              "  <tbody>\n",
              "    <tr>\n",
              "      <th>Brazil</th>\n",
              "      <td>8669.998</td>\n",
              "      <td>7.0</td>\n",
              "    </tr>\n",
              "    <tr>\n",
              "      <th>Mexico</th>\n",
              "      <td>9009.280</td>\n",
              "      <td>6.7</td>\n",
              "    </tr>\n",
              "    <tr>\n",
              "      <th>Russia</th>\n",
              "      <td>9054.914</td>\n",
              "      <td>6.0</td>\n",
              "    </tr>\n",
              "    <tr>\n",
              "      <th>Turkey</th>\n",
              "      <td>9437.372</td>\n",
              "      <td>5.6</td>\n",
              "    </tr>\n",
              "    <tr>\n",
              "      <th>Hungary</th>\n",
              "      <td>12239.894</td>\n",
              "      <td>4.9</td>\n",
              "    </tr>\n",
              "  </tbody>\n",
              "</table>\n",
              "</div>"
            ],
            "text/plain": [
              "         GDP per capita  Life satisfaction\n",
              "Country                                   \n",
              "Brazil         8669.998                7.0\n",
              "Mexico         9009.280                6.7\n",
              "Russia         9054.914                6.0\n",
              "Turkey         9437.372                5.6\n",
              "Hungary       12239.894                4.9"
            ]
          },
          "metadata": {},
          "execution_count": 14
        }
      ]
    },
    {
      "cell_type": "markdown",
      "metadata": {
        "id": "tzIULZqQXRCp"
      },
      "source": [
        "### Select some features"
      ]
    },
    {
      "cell_type": "code",
      "metadata": {
        "colab": {
          "base_uri": "https://localhost:8080/"
        },
        "id": "58g75LWPXRCq",
        "outputId": "3ce7bdbb-507a-4b7e-9a92-295a8d3fe4d6"
      },
      "source": [
        "#select the features you are interested in\n",
        "X = np.c_[data[\"GDP per capita\"]]\n",
        "y = np.c_[data[\"Life satisfaction\"]]\n",
        "np.shape(X)"
      ],
      "execution_count": 15,
      "outputs": [
        {
          "output_type": "execute_result",
          "data": {
            "text/plain": [
              "(36, 1)"
            ]
          },
          "metadata": {},
          "execution_count": 15
        }
      ]
    },
    {
      "cell_type": "markdown",
      "metadata": {
        "id": "pVFrtq82XRCr"
      },
      "source": [
        "### Visualization"
      ]
    },
    {
      "cell_type": "code",
      "metadata": {
        "colab": {
          "base_uri": "https://localhost:8080/",
          "height": 237
        },
        "id": "r6HbimduXRCr",
        "outputId": "933bab0e-f790-42f0-bf3a-5058af0507e2"
      },
      "source": [
        "# Visualize the sample data\n",
        "mpl.rc('axes', labelsize=14)\n",
        "mpl.rc('xtick', labelsize=12)\n",
        "mpl.rc('ytick', labelsize=12)\n",
        "\n",
        "data.plot(kind='scatter', x=\"GDP per capita\", y='Life satisfaction', figsize=(5,3))\n",
        "plt.axis([0, 60000, 0, 10])\n",
        "\n",
        "plt.xlabel(\"GDP per capita (USD)\")\n",
        "\n",
        "plt.show()\n",
        "#"
      ],
      "execution_count": 16,
      "outputs": [
        {
          "output_type": "display_data",
          "data": {
            "image/png": "[encoded data removed]",
            "text/plain": [
              "<Figure size 360x216 with 1 Axes>"
            ]
          },
          "metadata": {
            "needs_background": "light"
          }
        }
      ]
    },
    {
      "cell_type": "markdown",
      "metadata": {
        "id": "4LuEN2Q-XRCs"
      },
      "source": [
        "### Training"
      ]
    },
    {
      "cell_type": "code",
      "metadata": {
        "colab": {
          "base_uri": "https://localhost:8080/"
        },
        "id": "ZtAjOVl5XRCt",
        "outputId": "92495fed-9389-44c6-a122-f8945f045a42"
      },
      "source": [
        "lrModel = sklearn.linear_model.LinearRegression()\n",
        "\n",
        "# Train the model\n",
        "lrModel.fit(X, y)\n",
        "\n",
        "#model parameters\n",
        "w0, w1 = lrModel.intercept_[0], lrModel.coef_[0][0]\n",
        "\n",
        "#R2 (when R2=1, all data is fit -> the Loss(w)=0)\n",
        "print(lrModel.score(X, y))"
      ],
      "execution_count": 17,
      "outputs": [
        {
          "output_type": "stream",
          "name": "stdout",
          "text": [
            "0.40410998750014093\n"
          ]
        }
      ]
    },
    {
      "cell_type": "code",
      "metadata": {
        "colab": {
          "base_uri": "https://localhost:8080/",
          "height": 237
        },
        "id": "WCgNKmYTXRCt",
        "outputId": "95d8e0e8-0e5d-4a93-828b-67d83fa1cf87"
      },
      "source": [
        "#plot\n",
        "data.plot(kind='scatter', x=\"GDP per capita\", y='Life satisfaction', figsize=(5,3))\n",
        "plt.xlabel(\"GDP per capita (USD)\")\n",
        "plt.axis([0, 60000, 0, 10])\n",
        "x=np.linspace(0, 60000, 1000)\n",
        "plt.plot(x, w0 + w1*x, \"b\")\n",
        "\n",
        "#save_fig('best_fit_model_plot')\n",
        "plt.show()"
      ],
      "execution_count": 18,
      "outputs": [
        {
          "output_type": "display_data",
          "data": {
            "image/png": "[encoded data removed]",
            "text/plain": [
              "<Figure size 360x216 with 1 Axes>"
            ]
          },
          "metadata": {
            "needs_background": "light"
          }
        }
      ]
    },
    {
      "cell_type": "markdown",
      "metadata": {
        "id": "960AlIrqXRCu"
      },
      "source": [
        "### Prediction"
      ]
    },
    {
      "cell_type": "code",
      "metadata": {
        "colab": {
          "base_uri": "https://localhost:8080/"
        },
        "id": "B5i2Zn9LXRC1",
        "outputId": "65cbf445-b126-4fa8-e0fd-c8ee79726cb4"
      },
      "source": [
        "# Make a prediction for Cyprus\n",
        "X_new = [[22587]]  # Cyprus' GDP per capita\n",
        "print(lrModel.predict(X_new)) # outputs [[ 5.96242338]]"
      ],
      "execution_count": 19,
      "outputs": [
        {
          "output_type": "stream",
          "name": "stdout",
          "text": [
            "[[6.28653637]]\n"
          ]
        }
      ]
    },
    {
      "cell_type": "markdown",
      "metadata": {
        "id": "WKzSnZLMXRC1"
      },
      "source": [
        "## Add polynomial features"
      ]
    },
    {
      "cell_type": "code",
      "metadata": {
        "colab": {
          "base_uri": "https://localhost:8080/"
        },
        "id": "ZMS4Vu_-XRC2",
        "outputId": "678646f0-e76f-4f00-a2be-81c4475d684c"
      },
      "source": [
        "poly = preprocessing.PolynomialFeatures(degree=5, include_bias=False)\n",
        "scaler = preprocessing.StandardScaler()\n",
        "\n",
        "pipelineLRModel = pipeline.Pipeline([('poly', poly), ('scal', scaler), ('lin', lrModel)])\n",
        "np.shape(X)\n",
        "np.shape(y)\n",
        "pipelineLRModel.fit(X, y)"
      ],
      "execution_count": 20,
      "outputs": [
        {
          "output_type": "execute_result",
          "data": {
            "text/plain": [
              "Pipeline(memory=None,\n",
              "         steps=[('poly',\n",
              "                 PolynomialFeatures(degree=5, include_bias=False,\n",
              "                                    interaction_only=False, order='C')),\n",
              "                ('scal',\n",
              "                 StandardScaler(copy=True, with_mean=True, with_std=True)),\n",
              "                ('lin',\n",
              "                 LinearRegression(copy_X=True, fit_intercept=True, n_jobs=None,\n",
              "                                  normalize=False))],\n",
              "         verbose=False)"
            ]
          },
          "metadata": {},
          "execution_count": 20
        }
      ]
    },
    {
      "cell_type": "code",
      "metadata": {
        "colab": {
          "base_uri": "https://localhost:8080/",
          "height": 237
        },
        "id": "Px3Y8dUhXRC2",
        "outputId": "635f63fe-0828-4e07-add3-97d2c99c749e"
      },
      "source": [
        "data.plot(kind='scatter', x=\"GDP per capita\", y='Life satisfaction', figsize=(8,3))\n",
        "plt.axis([0, 110000, 0, 10])\n",
        "\n",
        "curve = pipelineLRModel.predict(X)\n",
        "plt.plot(X, curve)\n",
        "plt.xlabel(\"GDP per capita (USD)\")\n",
        "plt.show()\n"
      ],
      "execution_count": 21,
      "outputs": [
        {
          "output_type": "display_data",
          "data": {
            "image/png": "[encoded data removed]",
            "text/plain": [
              "<Figure size 576x216 with 1 Axes>"
            ]
          },
          "metadata": {
            "needs_background": "light"
          }
        }
      ]
    },
    {
      "cell_type": "code",
      "metadata": {
        "colab": {
          "base_uri": "https://localhost:8080/"
        },
        "id": "x0gWe8apXRC2",
        "outputId": "ff0677a6-ec1c-43b1-876c-2a5044ea2196"
      },
      "source": [
        "#R2\n",
        "print(pipelineLRModel.score(X, y))"
      ],
      "execution_count": 22,
      "outputs": [
        {
          "output_type": "stream",
          "name": "stdout",
          "text": [
            "0.6806653014078106\n"
          ]
        }
      ]
    },
    {
      "cell_type": "markdown",
      "metadata": {
        "id": "Qpx1-9XgXRC3"
      },
      "source": [
        "### Regularization (LASSO)"
      ]
    },
    {
      "cell_type": "code",
      "metadata": {
        "collapsed": true,
        "id": "lhKB_YZuXRC4"
      },
      "source": [
        "lrModellasso = sklearn.linear_model.Lasso(alpha=10) # alpha == lambda notation in the course\n",
        "Xsample = np.c_[data[\"GDP per capita\"]]\n",
        "ysample = np.c_[data[\"Life satisfaction\"]]\n",
        "lrModellasso.fit(Xsample, ysample)\n",
        "w0lasso, w1lasso = lrModellasso.intercept_, lrModellasso.coef_"
      ],
      "execution_count": 82,
      "outputs": []
    },
    {
      "cell_type": "code",
      "metadata": {
        "colab": {
          "base_uri": "https://localhost:8080/"
        },
        "id": "NKianxztJyb8",
        "outputId": "8868a8df-2224-42c2-87b2-1b65928221e2"
      },
      "source": [
        "print(lrModellasso)"
      ],
      "execution_count": 83,
      "outputs": [
        {
          "output_type": "stream",
          "name": "stdout",
          "text": [
            "Lasso(alpha=10, copy_X=True, fit_intercept=True, max_iter=1000, normalize=False,\n",
            "      positive=False, precompute=False, random_state=None, selection='cyclic',\n",
            "      tol=0.0001, warm_start=False)\n"
          ]
        }
      ]
    },
    {
      "cell_type": "code",
      "metadata": {
        "colab": {
          "base_uri": "https://localhost:8080/",
          "height": 237
        },
        "id": "WiQSiRUYXRC4",
        "outputId": "e4f464a7-7889-409e-8658-44666c414209"
      },
      "source": [
        "f = plt.figure(figsize=(8,3))\n",
        "\n",
        "plt.xlabel(\"GDP per capita\")\n",
        "plt.ylabel('Life satisfaction')\n",
        "\n",
        "plt.plot(list(data[\"GDP per capita\"]), list(data[\"Life satisfaction\"]), \"bo\")\n",
        "\n",
        "x = np.linspace(0, 110000, 1000)\n",
        "plt.plot(x, w0 + w1*x, \"b:\", label=\"Linear model on sample data\")\n",
        "plt.plot(x, w0lasso + w1lasso * x, \"b\", label=\"Regularized linear model on sample data\")\n",
        "\n",
        "plt.legend(loc=\"lower right\")\n",
        "plt.axis([0, 110000, 0, 10])\n",
        "plt.xlabel(\"GDP per capita (USD)\")\n",
        "\n",
        "plt.show()"
      ],
      "execution_count": 84,
      "outputs": [
        {
          "output_type": "display_data",
          "data": {
            "image/png": "[encoded data removed]",
            "text/plain": [
              "<Figure size 576x216 with 1 Axes>"
            ]
          },
          "metadata": {
            "needs_background": "light"
          }
        }
      ]
    },
    {
      "cell_type": "code",
      "metadata": {
        "colab": {
          "base_uri": "https://localhost:8080/"
        },
        "id": "q8P2YxamXRC4",
        "outputId": "086a36dd-342a-434c-9ace-3bc40b751a8d"
      },
      "source": [
        "#R2\n",
        "print(lrModellasso.score(X, y))"
      ],
      "execution_count": 160,
      "outputs": [
        {
          "output_type": "stream",
          "name": "stdout",
          "text": [
            "0.9697926398270791\n"
          ]
        }
      ]
    },
    {
      "cell_type": "markdown",
      "metadata": {
        "id": "mUgyqg76XRC5"
      },
      "source": [
        "## Exercise"
      ]
    },
    {
      "cell_type": "markdown",
      "metadata": {
        "id": "GV2finxwXRC5"
      },
      "source": [
        "### 1- try LASSO regularization\n",
        "### 2- try on different data\n",
        "### 3- try with more features\n",
        "### 4- tune the regularization hyper-parameter alpha (lambda in the course)"
      ]
    },
    {
      "cell_type": "code",
      "metadata": {
        "collapsed": true,
        "id": "DVVk7PlcXRC5"
      },
      "source": [
        ""
      ],
      "execution_count": null,
      "outputs": []
    }
  ]
}