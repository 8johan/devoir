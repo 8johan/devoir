{
  "nbformat": 4,
  "nbformat_minor": 0,
  "metadata": {
    "colab": {
      "name": "Bienvenue dans Colaboratory",
      "provenance": [],
      "collapsed_sections": [],
      "include_colab_link": true
    },
    "kernelspec": {
      "display_name": "Python 3",
      "name": "python3"
    }
  },
  "cells": [
    {
      "cell_type": "markdown",
      "metadata": {
        "id": "view-in-github",
        "colab_type": "text"
      },
      "source": [
        "<a href=\"https://colab.research.google.com/github/8johan/devoir/blob/main/ML_proj.ipynb\" target=\"_parent\"><img src=\"https://colab.research.google.com/assets/colab-badge.svg\" alt=\"Open In Colab\"/></a>"
      ]
    },
    {
      "cell_type": "markdown",
      "metadata": {
        "id": "NBkgyjIcWl7t"
      },
      "source": [
        "Hi i am Yasine Lehmiani \n",
        "\n",
        "This Database contains 3397 patients for the consideration of Testosterone Deficiency. \n",
        "\n",
        "Features:\n",
        "\n",
        "Age: in years (we only considered patients aged from 45-85 years);\n",
        "Triglycerides (TG): Integer Numbers (mg/dl);\n",
        "Waist Circumference (WC): in centimeters (medical literature usually thresholds at 102cm);\n",
        "HDL: Integer numbers (mg/dl);\n",
        "Hypertension: Binary, in which 1 is presence, and 0 is absence;\n",
        "Diabetes: Binary, in which 1 is presence, and 0 is absence.\n",
        "Target:\n",
        "\n",
        "T: Testosterone (Medical Literature suggests a deficiency when T<300 ng/dl).\n",
        "link to data https://github.com/osmarluiz/Testosterone-Deficiency-Dataset/blob/main/ptestost.xlsx?raw=true\n"
      ]
    },
    {
      "cell_type": "markdown",
      "metadata": {
        "id": "05y_tD1tXIRs"
      },
      "source": [
        ""
      ]
    },
    {
      "cell_type": "code",
      "metadata": {
        "id": "C4HZx7Gndbrh"
      },
      "source": [
        "import pandas as pd\n",
        "import numpy as np\n",
        "\n",
        "from sklearn.model_selection import KFold\n",
        "from sklearn.model_selection import GroupKFold\n",
        "from sklearn.model_selection import GridSearchCV\n",
        "\n",
        "\n",
        "import pandas as pd\n",
        "import numpy as np\n",
        "from matplotlib import pyplot as plt\n",
        "%matplotlib inline\n",
        "import seaborn as sns\n",
        "import xgboost as xgb\n",
        "from sklearn.ensemble import RandomForestClassifier\n",
        "\n",
        "from sklearn.metrics import confusion_matrix\n",
        "from sklearn.metrics import balanced_accuracy_score\n",
        "from sklearn.model_selection import learning_curve\n",
        "from sklearn.model_selection import ShuffleSplit\n",
        "\n",
        "import matplotlib.pyplot as plt"
      ],
      "execution_count": 2,
      "outputs": []
    },
    {
      "cell_type": "code",
      "metadata": {
        "id": "SyHb1OpxhXDA"
      },
      "source": [
        "#import the data \n",
        "x=pd.read_excel('ptestost.xlsx', index_col=None) "
      ],
      "execution_count": 12,
      "outputs": []
    },
    {
      "cell_type": "code",
      "metadata": {
        "colab": {
          "base_uri": "https://localhost:8080/",
          "height": 363
        },
        "id": "cWdxIEAPkmYJ",
        "outputId": "3142cd9d-4b6e-4f64-cf03-f44b695348a7"
      },
      "source": [
        "x.head\n",
        "\n",
        "x.shape\n",
        "x.head(10)"
      ],
      "execution_count": 13,
      "outputs": [
        {
          "output_type": "execute_result",
          "data": {
            "text/html": [
              "<div>\n",
              "<style scoped>\n",
              "    .dataframe tbody tr th:only-of-type {\n",
              "        vertical-align: middle;\n",
              "    }\n",
              "\n",
              "    .dataframe tbody tr th {\n",
              "        vertical-align: top;\n",
              "    }\n",
              "\n",
              "    .dataframe thead th {\n",
              "        text-align: right;\n",
              "    }\n",
              "</style>\n",
              "<table border=\"1\" class=\"dataframe\">\n",
              "  <thead>\n",
              "    <tr style=\"text-align: right;\">\n",
              "      <th></th>\n",
              "      <th>Age</th>\n",
              "      <th>DM</th>\n",
              "      <th>TG</th>\n",
              "      <th>HT</th>\n",
              "      <th>HDL</th>\n",
              "      <th>AC</th>\n",
              "      <th>T</th>\n",
              "    </tr>\n",
              "  </thead>\n",
              "  <tbody>\n",
              "    <tr>\n",
              "      <th>0</th>\n",
              "      <td>60</td>\n",
              "      <td>0</td>\n",
              "      <td>145</td>\n",
              "      <td>1</td>\n",
              "      <td>35.0</td>\n",
              "      <td>114.0</td>\n",
              "      <td>0</td>\n",
              "    </tr>\n",
              "    <tr>\n",
              "      <th>1</th>\n",
              "      <td>75</td>\n",
              "      <td>0</td>\n",
              "      <td>93</td>\n",
              "      <td>0</td>\n",
              "      <td>48.0</td>\n",
              "      <td>84.0</td>\n",
              "      <td>0</td>\n",
              "    </tr>\n",
              "    <tr>\n",
              "      <th>2</th>\n",
              "      <td>50</td>\n",
              "      <td>0</td>\n",
              "      <td>151</td>\n",
              "      <td>0</td>\n",
              "      <td>57.0</td>\n",
              "      <td>99.0</td>\n",
              "      <td>0</td>\n",
              "    </tr>\n",
              "    <tr>\n",
              "      <th>3</th>\n",
              "      <td>62</td>\n",
              "      <td>0</td>\n",
              "      <td>178</td>\n",
              "      <td>1</td>\n",
              "      <td>28.0</td>\n",
              "      <td>109.0</td>\n",
              "      <td>0</td>\n",
              "    </tr>\n",
              "    <tr>\n",
              "      <th>4</th>\n",
              "      <td>55</td>\n",
              "      <td>0</td>\n",
              "      <td>138</td>\n",
              "      <td>1</td>\n",
              "      <td>62.0</td>\n",
              "      <td>98.0</td>\n",
              "      <td>0</td>\n",
              "    </tr>\n",
              "    <tr>\n",
              "      <th>5</th>\n",
              "      <td>79</td>\n",
              "      <td>0</td>\n",
              "      <td>146</td>\n",
              "      <td>1</td>\n",
              "      <td>42.0</td>\n",
              "      <td>100.0</td>\n",
              "      <td>0</td>\n",
              "    </tr>\n",
              "    <tr>\n",
              "      <th>6</th>\n",
              "      <td>63</td>\n",
              "      <td>1</td>\n",
              "      <td>245</td>\n",
              "      <td>1</td>\n",
              "      <td>35.0</td>\n",
              "      <td>97.0</td>\n",
              "      <td>0</td>\n",
              "    </tr>\n",
              "    <tr>\n",
              "      <th>7</th>\n",
              "      <td>53</td>\n",
              "      <td>0</td>\n",
              "      <td>163</td>\n",
              "      <td>0</td>\n",
              "      <td>55.0</td>\n",
              "      <td>94.0</td>\n",
              "      <td>0</td>\n",
              "    </tr>\n",
              "    <tr>\n",
              "      <th>8</th>\n",
              "      <td>69</td>\n",
              "      <td>0</td>\n",
              "      <td>67</td>\n",
              "      <td>0</td>\n",
              "      <td>60.0</td>\n",
              "      <td>107.0</td>\n",
              "      <td>0</td>\n",
              "    </tr>\n",
              "    <tr>\n",
              "      <th>9</th>\n",
              "      <td>70</td>\n",
              "      <td>0</td>\n",
              "      <td>92</td>\n",
              "      <td>0</td>\n",
              "      <td>54.0</td>\n",
              "      <td>92.0</td>\n",
              "      <td>0</td>\n",
              "    </tr>\n",
              "  </tbody>\n",
              "</table>\n",
              "</div>"
            ],
            "text/plain": [
              "   Age  DM   TG  HT   HDL     AC  T\n",
              "0   60   0  145   1  35.0  114.0  0\n",
              "1   75   0   93   0  48.0   84.0  0\n",
              "2   50   0  151   0  57.0   99.0  0\n",
              "3   62   0  178   1  28.0  109.0  0\n",
              "4   55   0  138   1  62.0   98.0  0\n",
              "5   79   0  146   1  42.0  100.0  0\n",
              "6   63   1  245   1  35.0   97.0  0\n",
              "7   53   0  163   0  55.0   94.0  0\n",
              "8   69   0   67   0  60.0  107.0  0\n",
              "9   70   0   92   0  54.0   92.0  0"
            ]
          },
          "metadata": {},
          "execution_count": 13
        }
      ]
    },
    {
      "cell_type": "code",
      "metadata": {
        "colab": {
          "base_uri": "https://localhost:8080/",
          "height": 300
        },
        "id": "pRShw-Mapt_0",
        "outputId": "721d757c-b147-48a1-eedd-f98249171e68"
      },
      "source": [
        "x.describe()"
      ],
      "execution_count": 14,
      "outputs": [
        {
          "output_type": "execute_result",
          "data": {
            "text/html": [
              "<div>\n",
              "<style scoped>\n",
              "    .dataframe tbody tr th:only-of-type {\n",
              "        vertical-align: middle;\n",
              "    }\n",
              "\n",
              "    .dataframe tbody tr th {\n",
              "        vertical-align: top;\n",
              "    }\n",
              "\n",
              "    .dataframe thead th {\n",
              "        text-align: right;\n",
              "    }\n",
              "</style>\n",
              "<table border=\"1\" class=\"dataframe\">\n",
              "  <thead>\n",
              "    <tr style=\"text-align: right;\">\n",
              "      <th></th>\n",
              "      <th>Age</th>\n",
              "      <th>DM</th>\n",
              "      <th>TG</th>\n",
              "      <th>HT</th>\n",
              "      <th>HDL</th>\n",
              "      <th>AC</th>\n",
              "      <th>T</th>\n",
              "    </tr>\n",
              "  </thead>\n",
              "  <tbody>\n",
              "    <tr>\n",
              "      <th>count</th>\n",
              "      <td>3397.000000</td>\n",
              "      <td>3397.000000</td>\n",
              "      <td>3397.000000</td>\n",
              "      <td>3397.000000</td>\n",
              "      <td>3397.000000</td>\n",
              "      <td>3397.000000</td>\n",
              "      <td>3397.000000</td>\n",
              "    </tr>\n",
              "    <tr>\n",
              "      <th>mean</th>\n",
              "      <td>61.327348</td>\n",
              "      <td>0.388578</td>\n",
              "      <td>155.269650</td>\n",
              "      <td>0.511922</td>\n",
              "      <td>46.325493</td>\n",
              "      <td>98.916515</td>\n",
              "      <td>0.193112</td>\n",
              "    </tr>\n",
              "    <tr>\n",
              "      <th>std</th>\n",
              "      <td>10.072821</td>\n",
              "      <td>0.487499</td>\n",
              "      <td>88.840249</td>\n",
              "      <td>0.499931</td>\n",
              "      <td>10.960146</td>\n",
              "      <td>10.629471</td>\n",
              "      <td>0.394798</td>\n",
              "    </tr>\n",
              "    <tr>\n",
              "      <th>min</th>\n",
              "      <td>45.000000</td>\n",
              "      <td>0.000000</td>\n",
              "      <td>12.000000</td>\n",
              "      <td>0.000000</td>\n",
              "      <td>13.000000</td>\n",
              "      <td>43.000000</td>\n",
              "      <td>0.000000</td>\n",
              "    </tr>\n",
              "    <tr>\n",
              "      <th>25%</th>\n",
              "      <td>53.000000</td>\n",
              "      <td>0.000000</td>\n",
              "      <td>97.000000</td>\n",
              "      <td>0.000000</td>\n",
              "      <td>39.000000</td>\n",
              "      <td>92.000000</td>\n",
              "      <td>0.000000</td>\n",
              "    </tr>\n",
              "    <tr>\n",
              "      <th>50%</th>\n",
              "      <td>60.000000</td>\n",
              "      <td>0.000000</td>\n",
              "      <td>136.000000</td>\n",
              "      <td>1.000000</td>\n",
              "      <td>45.000000</td>\n",
              "      <td>98.000000</td>\n",
              "      <td>0.000000</td>\n",
              "    </tr>\n",
              "    <tr>\n",
              "      <th>75%</th>\n",
              "      <td>69.000000</td>\n",
              "      <td>1.000000</td>\n",
              "      <td>183.000000</td>\n",
              "      <td>1.000000</td>\n",
              "      <td>52.000000</td>\n",
              "      <td>105.000000</td>\n",
              "      <td>0.000000</td>\n",
              "    </tr>\n",
              "    <tr>\n",
              "      <th>max</th>\n",
              "      <td>85.000000</td>\n",
              "      <td>1.000000</td>\n",
              "      <td>980.000000</td>\n",
              "      <td>1.000000</td>\n",
              "      <td>116.000000</td>\n",
              "      <td>198.000000</td>\n",
              "      <td>1.000000</td>\n",
              "    </tr>\n",
              "  </tbody>\n",
              "</table>\n",
              "</div>"
            ],
            "text/plain": [
              "               Age           DM  ...           AC            T\n",
              "count  3397.000000  3397.000000  ...  3397.000000  3397.000000\n",
              "mean     61.327348     0.388578  ...    98.916515     0.193112\n",
              "std      10.072821     0.487499  ...    10.629471     0.394798\n",
              "min      45.000000     0.000000  ...    43.000000     0.000000\n",
              "25%      53.000000     0.000000  ...    92.000000     0.000000\n",
              "50%      60.000000     0.000000  ...    98.000000     0.000000\n",
              "75%      69.000000     1.000000  ...   105.000000     0.000000\n",
              "max      85.000000     1.000000  ...   198.000000     1.000000\n",
              "\n",
              "[8 rows x 7 columns]"
            ]
          },
          "metadata": {},
          "execution_count": 14
        }
      ]
    },
    {
      "cell_type": "code",
      "metadata": {
        "colab": {
          "base_uri": "https://localhost:8080/",
          "height": 1000
        },
        "id": "RvtH_3DooNyr",
        "outputId": "d0fd33ca-3e5d-4704-f6e3-3ae87b65b408"
      },
      "source": [
        "## Correlation\n",
        "import seaborn as sns\n",
        "import matplotlib.pyplot as plt\n",
        "#get correlations of each features in dataset\n",
        "\n",
        "corrmat =x.corr()\n",
        "top_corr_features = corrmat.index\n",
        "plt.figure(figsize=(20,20))\n",
        "#plot heat map\n",
        "g=sns.heatmap(x[top_corr_features].corr(),annot=True,cmap=\"RdYlGn\")"
      ],
      "execution_count": 15,
      "outputs": [
        {
          "output_type": "display_data",
          "data": {
            "image/png": "[encoded data removed]",
            "text/plain": [
              "<Figure size 1440x1440 with 2 Axes>"
            ]
          },
          "metadata": {
            "needs_background": "light"
          }
        }
      ]
    },
    {
      "cell_type": "code",
      "metadata": {
        "colab": {
          "base_uri": "https://localhost:8080/",
          "height": 269
        },
        "id": "4a_-8StQpAfn",
        "outputId": "a87976e0-ffbc-49d4-cfa6-1ae6d293ae8e"
      },
      "source": [
        "x.corr()"
      ],
      "execution_count": 16,
      "outputs": [
        {
          "output_type": "execute_result",
          "data": {
            "text/html": [
              "<div>\n",
              "<style scoped>\n",
              "    .dataframe tbody tr th:only-of-type {\n",
              "        vertical-align: middle;\n",
              "    }\n",
              "\n",
              "    .dataframe tbody tr th {\n",
              "        vertical-align: top;\n",
              "    }\n",
              "\n",
              "    .dataframe thead th {\n",
              "        text-align: right;\n",
              "    }\n",
              "</style>\n",
              "<table border=\"1\" class=\"dataframe\">\n",
              "  <thead>\n",
              "    <tr style=\"text-align: right;\">\n",
              "      <th></th>\n",
              "      <th>Age</th>\n",
              "      <th>DM</th>\n",
              "      <th>TG</th>\n",
              "      <th>HT</th>\n",
              "      <th>HDL</th>\n",
              "      <th>AC</th>\n",
              "      <th>T</th>\n",
              "    </tr>\n",
              "  </thead>\n",
              "  <tbody>\n",
              "    <tr>\n",
              "      <th>Age</th>\n",
              "      <td>1.000000</td>\n",
              "      <td>0.092162</td>\n",
              "      <td>-0.159567</td>\n",
              "      <td>0.284759</td>\n",
              "      <td>-0.022599</td>\n",
              "      <td>-0.019767</td>\n",
              "      <td>0.012755</td>\n",
              "    </tr>\n",
              "    <tr>\n",
              "      <th>DM</th>\n",
              "      <td>0.092162</td>\n",
              "      <td>1.000000</td>\n",
              "      <td>0.130495</td>\n",
              "      <td>0.170677</td>\n",
              "      <td>-0.064131</td>\n",
              "      <td>0.229361</td>\n",
              "      <td>0.134780</td>\n",
              "    </tr>\n",
              "    <tr>\n",
              "      <th>TG</th>\n",
              "      <td>-0.159567</td>\n",
              "      <td>0.130495</td>\n",
              "      <td>1.000000</td>\n",
              "      <td>0.053504</td>\n",
              "      <td>-0.305067</td>\n",
              "      <td>0.227617</td>\n",
              "      <td>0.206086</td>\n",
              "    </tr>\n",
              "    <tr>\n",
              "      <th>HT</th>\n",
              "      <td>0.284759</td>\n",
              "      <td>0.170677</td>\n",
              "      <td>0.053504</td>\n",
              "      <td>1.000000</td>\n",
              "      <td>-0.083300</td>\n",
              "      <td>0.213183</td>\n",
              "      <td>0.107686</td>\n",
              "    </tr>\n",
              "    <tr>\n",
              "      <th>HDL</th>\n",
              "      <td>-0.022599</td>\n",
              "      <td>-0.064131</td>\n",
              "      <td>-0.305067</td>\n",
              "      <td>-0.083300</td>\n",
              "      <td>1.000000</td>\n",
              "      <td>-0.197804</td>\n",
              "      <td>-0.109804</td>\n",
              "    </tr>\n",
              "    <tr>\n",
              "      <th>AC</th>\n",
              "      <td>-0.019767</td>\n",
              "      <td>0.229361</td>\n",
              "      <td>0.227617</td>\n",
              "      <td>0.213183</td>\n",
              "      <td>-0.197804</td>\n",
              "      <td>1.000000</td>\n",
              "      <td>0.303493</td>\n",
              "    </tr>\n",
              "    <tr>\n",
              "      <th>T</th>\n",
              "      <td>0.012755</td>\n",
              "      <td>0.134780</td>\n",
              "      <td>0.206086</td>\n",
              "      <td>0.107686</td>\n",
              "      <td>-0.109804</td>\n",
              "      <td>0.303493</td>\n",
              "      <td>1.000000</td>\n",
              "    </tr>\n",
              "  </tbody>\n",
              "</table>\n",
              "</div>"
            ],
            "text/plain": [
              "          Age        DM        TG        HT       HDL        AC         T\n",
              "Age  1.000000  0.092162 -0.159567  0.284759 -0.022599 -0.019767  0.012755\n",
              "DM   0.092162  1.000000  0.130495  0.170677 -0.064131  0.229361  0.134780\n",
              "TG  -0.159567  0.130495  1.000000  0.053504 -0.305067  0.227617  0.206086\n",
              "HT   0.284759  0.170677  0.053504  1.000000 -0.083300  0.213183  0.107686\n",
              "HDL -0.022599 -0.064131 -0.305067 -0.083300  1.000000 -0.197804 -0.109804\n",
              "AC  -0.019767  0.229361  0.227617  0.213183 -0.197804  1.000000  0.303493\n",
              "T    0.012755  0.134780  0.206086  0.107686 -0.109804  0.303493  1.000000"
            ]
          },
          "metadata": {},
          "execution_count": 16
        }
      ]
    },
    {
      "cell_type": "code",
      "metadata": {
        "colab": {
          "base_uri": "https://localhost:8080/"
        },
        "id": "eHdlApcvqV8c",
        "outputId": "856bd280-4cf2-4f29-c358-84d7fc33c9c4"
      },
      "source": [
        "\n",
        "T_INF_300_true = len(x.loc[x['T'] == 1])\n",
        "T_SUP_300_false = len(x.loc[x['T'] == 0])\n",
        "(T_INF_300_true,T_SUP_300_false)"
      ],
      "execution_count": 118,
      "outputs": [
        {
          "output_type": "execute_result",
          "data": {
            "text/plain": [
              "(656, 2741)"
            ]
          },
          "metadata": {},
          "execution_count": 118
        }
      ]
    },
    {
      "cell_type": "markdown",
      "metadata": {
        "id": "3bc7ApAHXyFi"
      },
      "source": [
        "train data and test data"
      ]
    },
    {
      "cell_type": "code",
      "metadata": {
        "id": "7XGelDY_ufVS"
      },
      "source": [
        "from sklearn.model_selection import train_test_split\n",
        "feature_columns = ['Age','DM', 'TG', 'HT', 'HDL', 'AC']\n",
        "predicted_class = ['T']"
      ],
      "execution_count": 123,
      "outputs": []
    },
    {
      "cell_type": "code",
      "metadata": {
        "id": "o8TVroTPvkV0"
      },
      "source": [
        "X = x[feature_columns].values\n",
        "y = x[predicted_class].values\n",
        "X_train, X_test, y_train, y_test = train_test_split(X, y, test_size = 0.30, random_state=10)"
      ],
      "execution_count": 124,
      "outputs": []
    },
    {
      "cell_type": "markdown",
      "metadata": {
        "id": "qCc5xGkWX8kr"
      },
      "source": [
        "construction of modele "
      ]
    },
    {
      "cell_type": "code",
      "metadata": {
        "colab": {
          "base_uri": "https://localhost:8080/",
          "height": 365
        },
        "id": "kS41WdWeyjTH",
        "outputId": "8296b11a-05ea-43b8-be74-955ad326065c"
      },
      "source": [
        "from sklearn.metrics import accuracy_score, make_scorer,f1_score, precision_score, recall_score, confusion_matrix\n",
        "rm= RandomForestClassifier(random_state=20)\n",
        "rm.fit(X_train, y_train.ravel())\n",
        "y_pred_train=rm.predict(X_train)\n",
        "y_pred= rm.predict(X_test)\n",
        "sns.heatmap(confusion_matrix(y_test, y_pred), annot=True, cmap=\"YlGn\")\n",
        "plt.title(' Random Forest Classifier ')\n",
        "plt.ylabel('True label')\n",
        "plt.xlabel('Predicted label')\n",
        "plt.show()\n",
        "print(\"the f1 score for Random Forest Classifier is :\",(f1_score(y_test, y_pred, average=\"macro\")))\n",
        "print(\"the precision score is :\",(precision_score(y_test, y_pred, average=\"macro\")))\n",
        "print(\"the recall score is :\",(recall_score(y_test, y_pred, average=\"macro\")))  \n",
        "rm.score(X_test, y_test)"
      ],
      "execution_count": 125,
      "outputs": [
        {
          "output_type": "display_data",
          "data": {
            "image/png": "[encoded data removed]",
            "text/plain": [
              "<Figure size 432x288 with 2 Axes>"
            ]
          },
          "metadata": {
            "needs_background": "light"
          }
        },
        {
          "output_type": "stream",
          "name": "stdout",
          "text": [
            "the f1 score for Random Forest Classifier is : 0.5786679072155025\n",
            "the precision score is : 0.6641693407334976\n",
            "the recall score is : 0.5708326648483876\n"
          ]
        },
        {
          "output_type": "execute_result",
          "data": {
            "text/plain": [
              "0.7980392156862746"
            ]
          },
          "metadata": {},
          "execution_count": 125
        }
      ]
    },
    {
      "cell_type": "code",
      "metadata": {
        "colab": {
          "base_uri": "https://localhost:8080/"
        },
        "id": "fAqpZa5I7CRp",
        "outputId": "ee2f9cb0-aa08-47ba-d65a-bfdfc4048428"
      },
      "source": [
        "from sklearn import metrics\n",
        "print(\"Accuracy  train  = {0:.3f}\".format(metrics.accuracy_score(y_train, y_pred_train)))\n",
        "print(\"Accuracy  test = {0:.3f}\".format(metrics.accuracy_score(y_test, y_pred)))"
      ],
      "execution_count": 126,
      "outputs": [
        {
          "output_type": "stream",
          "name": "stdout",
          "text": [
            "Accuracy  train  = 1.000\n",
            "Accuracy  test = 0.798\n"
          ]
        }
      ]
    },
    {
      "cell_type": "markdown",
      "metadata": {
        "id": "35LL1TNWZGX-"
      },
      "source": [
        "we can see that the model achieved an estimated classification accuracy of about 80 percent the test data and 99.99 percent for train data "
      ]
    },
    {
      "cell_type": "markdown",
      "metadata": {
        "id": "-VcIrYfTYOxN"
      },
      "source": [
        "Hyperparameter optimization using RandomizedSearchCV"
      ]
    },
    {
      "cell_type": "code",
      "metadata": {
        "colab": {
          "base_uri": "https://localhost:8080/"
        },
        "id": "9yF4ZL1K-CVy",
        "outputId": "0f9842b6-2f95-409f-c552-facc63ed55c9"
      },
      "source": [
        "params={'n_estimators': [ 100, 150, 250, 450, 500,700,800,1000],\n",
        "        'min_samples_split':[2,3,4,5],\n",
        " \"max_depth\"        : [ 3, 4, 5, 6, 8, 10, 12, 15,17,20,25],\n",
        " 'random_state':[10,15,20,30,50,75,100]\n",
        " \n",
        " \n",
        "    \n",
        "}\n",
        "from sklearn.model_selection import RandomizedSearchCV\n",
        "\n",
        "\n",
        "\n",
        "random_search=RandomizedSearchCV(rm,param_distributions=params,n_iter=5,scoring='roc_auc',n_jobs=-1,cv=5,verbose=3)\n",
        "random_search.fit(X,y.ravel())\n",
        "random_search.best_estimator_\n"
      ],
      "execution_count": 131,
      "outputs": [
        {
          "output_type": "stream",
          "name": "stdout",
          "text": [
            "Fitting 5 folds for each of 5 candidates, totalling 25 fits\n"
          ]
        },
        {
          "output_type": "execute_result",
          "data": {
            "text/plain": [
              "RandomForestClassifier(max_depth=3, min_samples_split=5, n_estimators=150,\n",
              "                       random_state=30)"
            ]
          },
          "metadata": {},
          "execution_count": 131
        }
      ]
    },
    {
      "cell_type": "code",
      "metadata": {
        "colab": {
          "base_uri": "https://localhost:8080/"
        },
        "id": "ERe1TR5Wd6Lk",
        "outputId": "0c05a576-b72e-4daa-edb2-1e939abb3d4b"
      },
      "source": [
        "# random forest classifier with optimal hyperparameters found above \n",
        "from sklearn.ensemble import RandomForestClassifier\n",
        "from sklearn.metrics import f1_score\n",
        "\n",
        "rfc = RandomForestClassifier(max_depth=3, min_samples_split=5, n_estimators=150,\n",
        "                       random_state=20)\n",
        "rfc.fit(X_train, y_train)\n",
        "y_pred_train=rfc.predict(X_train)\n",
        "y_pred= rfc.predict(X_test)\n",
        "\n",
        "\n",
        "rfc.score(X_test,y_test)"
      ],
      "execution_count": 133,
      "outputs": [
        {
          "output_type": "stream",
          "name": "stderr",
          "text": [
            "/usr/local/lib/python3.7/dist-packages/ipykernel_launcher.py:7: DataConversionWarning: A column-vector y was passed when a 1d array was expected. Please change the shape of y to (n_samples,), for example using ravel().\n",
            "  import sys\n"
          ]
        },
        {
          "output_type": "execute_result",
          "data": {
            "text/plain": [
              "0.7931372549019607"
            ]
          },
          "metadata": {},
          "execution_count": 133
        }
      ]
    },
    {
      "cell_type": "code",
      "metadata": {
        "colab": {
          "base_uri": "https://localhost:8080/"
        },
        "id": "uSt09EfQBSwg",
        "outputId": "39ed1670-146b-461c-ee6d-025b303877ff"
      },
      "source": [
        "\n",
        "from sklearn.model_selection import cross_val_score\n",
        "from sklearn.model_selection import KFold\n",
        "kf = KFold(shuffle=True, n_splits=5)\n",
        "score=cross_val_score(rfc,X,y.ravel(),cv=kf)\n",
        "score"
      ],
      "execution_count": 134,
      "outputs": [
        {
          "output_type": "execute_result",
          "data": {
            "text/plain": [
              "array([0.79705882, 0.81176471, 0.80854197, 0.7982327 , 0.82768778])"
            ]
          },
          "metadata": {},
          "execution_count": 134
        }
      ]
    },
    {
      "cell_type": "markdown",
      "metadata": {
        "id": "Orq96Tmmhc9r"
      },
      "source": [
        "\n",
        "# ***UNSUPERVISED*** ***LEARNING***"
      ]
    },
    {
      "cell_type": "code",
      "metadata": {
        "id": "I3DBFrgOht5L",
        "outputId": "e89bf853-4e91-4ba8-dcc4-26fd9211c7ec",
        "colab": {
          "base_uri": "https://localhost:8080/",
          "height": 284
        }
      },
      "source": [
        "\n",
        "v=x[x['T']==0]\n",
        "v1=x[x['T']==1]\n",
        "f=pd.concat([v[1:200], v1[1:200]])\n",
        "plt.scatter(x = x[\"TG\"],y = x[\"HDL\"],color = \"black\")\n"
      ],
      "execution_count": 135,
      "outputs": [
        {
          "output_type": "execute_result",
          "data": {
            "text/plain": [
              "<matplotlib.collections.PathCollection at 0x7f4768f55cd0>"
            ]
          },
          "metadata": {},
          "execution_count": 135
        },
        {
          "output_type": "display_data",
          "data": {
            "image/png": "[encoded data removed]",
            "text/plain": [
              "<Figure size 432x288 with 1 Axes>"
            ]
          },
          "metadata": {
            "needs_background": "light"
          }
        }
      ]
    },
    {
      "cell_type": "markdown",
      "metadata": {
        "id": "2vtNiBowYZqC"
      },
      "source": [
        "# ***Applying Kernel*** ***PCA***"
      ]
    },
    {
      "cell_type": "markdown",
      "metadata": {
        "id": "eWUQY-IZYw1X"
      },
      "source": [
        ""
      ]
    },
    {
      "cell_type": "code",
      "metadata": {
        "id": "rh2Bi9E6D_yb"
      },
      "source": [
        "from sklearn.decomposition import KernelPCA\n",
        "from sklearn.preprocessing import StandardScaler, MinMaxScaler\n",
        "#HERE WE SELECTE ONLY THE  CONTINUOUS FEATURES\n",
        "X=x[['HDL','TG','AC']]\n",
        "#TARGET \n",
        "y=x[['T']]\n",
        "scaler = StandardScaler()\n",
        "X= scaler.fit_transform(X)\n",
        "#X_train, X_test, y_train, y_test = train_test_split(X, y, test_size=0.3, random_state=0)\n",
        "\n",
        "#X_train = scaler.fit_transform(X_train)\n",
        "#X_test = scaler.transform(X_test)\n"
      ],
      "execution_count": 151,
      "outputs": []
    },
    {
      "cell_type": "markdown",
      "metadata": {
        "id": "krWhQtowY1mG"
      },
      "source": [
        "RBF kernel "
      ]
    },
    {
      "cell_type": "code",
      "metadata": {
        "id": "edGF46aI9btG",
        "outputId": "96ac9c85-7190-4655-b908-5eb2ff4f0452",
        "colab": {
          "base_uri": "https://localhost:8080/",
          "height": 423
        }
      },
      "source": [
        "kpca = KernelPCA(n_components = 2, kernel = 'rbf', fit_inverse_transform=True  ,gamma=10)\n",
        "X_rbf = kpca.fit_transform(X)\n",
        "X_11=pd.DataFrame(data=X_rbf,columns=['PC1','PC2'])\n",
        "\n",
        "X_11\n"
      ],
      "execution_count": 171,
      "outputs": [
        {
          "output_type": "execute_result",
          "data": {
            "text/html": [
              "<div>\n",
              "<style scoped>\n",
              "    .dataframe tbody tr th:only-of-type {\n",
              "        vertical-align: middle;\n",
              "    }\n",
              "\n",
              "    .dataframe tbody tr th {\n",
              "        vertical-align: top;\n",
              "    }\n",
              "\n",
              "    .dataframe thead th {\n",
              "        text-align: right;\n",
              "    }\n",
              "</style>\n",
              "<table border=\"1\" class=\"dataframe\">\n",
              "  <thead>\n",
              "    <tr style=\"text-align: right;\">\n",
              "      <th></th>\n",
              "      <th>PC1</th>\n",
              "      <th>PC2</th>\n",
              "    </tr>\n",
              "  </thead>\n",
              "  <tbody>\n",
              "    <tr>\n",
              "      <th>0</th>\n",
              "      <td>-0.041631</td>\n",
              "      <td>-0.042361</td>\n",
              "    </tr>\n",
              "    <tr>\n",
              "      <th>1</th>\n",
              "      <td>-0.057391</td>\n",
              "      <td>-0.047473</td>\n",
              "    </tr>\n",
              "    <tr>\n",
              "      <th>2</th>\n",
              "      <td>-0.053792</td>\n",
              "      <td>-0.024257</td>\n",
              "    </tr>\n",
              "    <tr>\n",
              "      <th>3</th>\n",
              "      <td>-0.031162</td>\n",
              "      <td>-0.029256</td>\n",
              "    </tr>\n",
              "    <tr>\n",
              "      <th>4</th>\n",
              "      <td>-0.043855</td>\n",
              "      <td>-0.037320</td>\n",
              "    </tr>\n",
              "    <tr>\n",
              "      <th>...</th>\n",
              "      <td>...</td>\n",
              "      <td>...</td>\n",
              "    </tr>\n",
              "    <tr>\n",
              "      <th>3392</th>\n",
              "      <td>-0.040841</td>\n",
              "      <td>-0.037096</td>\n",
              "    </tr>\n",
              "    <tr>\n",
              "      <th>3393</th>\n",
              "      <td>-0.029638</td>\n",
              "      <td>-0.028321</td>\n",
              "    </tr>\n",
              "    <tr>\n",
              "      <th>3394</th>\n",
              "      <td>-0.027360</td>\n",
              "      <td>-0.024696</td>\n",
              "    </tr>\n",
              "    <tr>\n",
              "      <th>3395</th>\n",
              "      <td>-0.052532</td>\n",
              "      <td>-0.016321</td>\n",
              "    </tr>\n",
              "    <tr>\n",
              "      <th>3396</th>\n",
              "      <td>-0.037771</td>\n",
              "      <td>-0.037346</td>\n",
              "    </tr>\n",
              "  </tbody>\n",
              "</table>\n",
              "<p>3397 rows × 2 columns</p>\n",
              "</div>"
            ],
            "text/plain": [
              "           PC1       PC2\n",
              "0    -0.041631 -0.042361\n",
              "1    -0.057391 -0.047473\n",
              "2    -0.053792 -0.024257\n",
              "3    -0.031162 -0.029256\n",
              "4    -0.043855 -0.037320\n",
              "...        ...       ...\n",
              "3392 -0.040841 -0.037096\n",
              "3393 -0.029638 -0.028321\n",
              "3394 -0.027360 -0.024696\n",
              "3395 -0.052532 -0.016321\n",
              "3396 -0.037771 -0.037346\n",
              "\n",
              "[3397 rows x 2 columns]"
            ]
          },
          "metadata": {},
          "execution_count": 171
        }
      ]
    },
    {
      "cell_type": "markdown",
      "metadata": {
        "id": "goi8IqxVY_31"
      },
      "source": [
        "WE CAN SEE OUR 2 AXIS "
      ]
    },
    {
      "cell_type": "markdown",
      "metadata": {
        "id": "O5UtXnQNZJkJ"
      },
      "source": [
        "LINEAR KERNEL"
      ]
    },
    {
      "cell_type": "code",
      "metadata": {
        "id": "aWusSiBa9icN",
        "outputId": "ed2d8387-de96-4dd0-9738-0b1c09e3b816",
        "colab": {
          "base_uri": "https://localhost:8080/"
        }
      },
      "source": [
        "kpca1 = KernelPCA(n_components = 2, kernel = 'linear',fit_inverse_transform=True)\n",
        "X_lin = kpca1.fit_transform(X)\n",
        "X_1111=pd.DataFrame(data=X_lin,columns=['PC1','PC2'])\n",
        "\n",
        "X_1111\n",
        "X_lin[[1,2,6,5,8,7,2],:]"
      ],
      "execution_count": 183,
      "outputs": [
        {
          "output_type": "execute_result",
          "data": {
            "text/plain": [
              "array([[-1.25456467, -0.92380511],\n",
              "       [-0.60248839,  0.4768911 ],\n",
              "       [ 1.13634839, -0.90546208],\n",
              "       [ 0.22337763, -0.07184918],\n",
              "       [-0.94947052,  1.4903322 ],\n",
              "       [-0.65797856, -0.04080692],\n",
              "       [-0.60248839,  0.4768911 ]])"
            ]
          },
          "metadata": {},
          "execution_count": 183
        }
      ]
    },
    {
      "cell_type": "markdown",
      "metadata": {
        "id": "372FfGbWYKlN"
      },
      "source": [
        "polynomial kernel"
      ]
    },
    {
      "cell_type": "code",
      "metadata": {
        "id": "sS233Mi1-Lkf",
        "outputId": "e603c848-6765-47b9-b2e7-c4980713febd",
        "colab": {
          "base_uri": "https://localhost:8080/",
          "height": 423
        }
      },
      "source": [
        "kpca2 = KernelPCA(n_components = 2, kernel = 'poly',gamma=15,degree=2)\n",
        "X_poly = kpca2.fit_transform(X)\n",
        "X_111=pd.DataFrame(data=X_poly,columns=['PC1','PC2'])\n",
        "\n",
        "X_111\n"
      ],
      "execution_count": 166,
      "outputs": [
        {
          "output_type": "execute_result",
          "data": {
            "text/html": [
              "<div>\n",
              "<style scoped>\n",
              "    .dataframe tbody tr th:only-of-type {\n",
              "        vertical-align: middle;\n",
              "    }\n",
              "\n",
              "    .dataframe tbody tr th {\n",
              "        vertical-align: top;\n",
              "    }\n",
              "\n",
              "    .dataframe thead th {\n",
              "        text-align: right;\n",
              "    }\n",
              "</style>\n",
              "<table border=\"1\" class=\"dataframe\">\n",
              "  <thead>\n",
              "    <tr style=\"text-align: right;\">\n",
              "      <th></th>\n",
              "      <th>PC1</th>\n",
              "      <th>PC2</th>\n",
              "    </tr>\n",
              "  </thead>\n",
              "  <tbody>\n",
              "    <tr>\n",
              "      <th>0</th>\n",
              "      <td>-15.748250</td>\n",
              "      <td>17.247403</td>\n",
              "    </tr>\n",
              "    <tr>\n",
              "      <th>1</th>\n",
              "      <td>-5.897760</td>\n",
              "      <td>14.667762</td>\n",
              "    </tr>\n",
              "    <tr>\n",
              "      <th>2</th>\n",
              "      <td>-17.295936</td>\n",
              "      <td>-14.497515</td>\n",
              "    </tr>\n",
              "    <tr>\n",
              "      <th>3</th>\n",
              "      <td>-9.546905</td>\n",
              "      <td>3.467422</td>\n",
              "    </tr>\n",
              "    <tr>\n",
              "      <th>4</th>\n",
              "      <td>-14.519941</td>\n",
              "      <td>-12.888214</td>\n",
              "    </tr>\n",
              "    <tr>\n",
              "      <th>...</th>\n",
              "      <td>...</td>\n",
              "      <td>...</td>\n",
              "    </tr>\n",
              "    <tr>\n",
              "      <th>3392</th>\n",
              "      <td>-13.141270</td>\n",
              "      <td>-5.906148</td>\n",
              "    </tr>\n",
              "    <tr>\n",
              "      <th>3393</th>\n",
              "      <td>-9.167167</td>\n",
              "      <td>-12.908790</td>\n",
              "    </tr>\n",
              "    <tr>\n",
              "      <th>3394</th>\n",
              "      <td>626.393327</td>\n",
              "      <td>12.730364</td>\n",
              "    </tr>\n",
              "    <tr>\n",
              "      <th>3395</th>\n",
              "      <td>-18.116642</td>\n",
              "      <td>-15.086283</td>\n",
              "    </tr>\n",
              "    <tr>\n",
              "      <th>3396</th>\n",
              "      <td>-10.443851</td>\n",
              "      <td>18.523946</td>\n",
              "    </tr>\n",
              "  </tbody>\n",
              "</table>\n",
              "<p>3397 rows × 2 columns</p>\n",
              "</div>"
            ],
            "text/plain": [
              "             PC1        PC2\n",
              "0     -15.748250  17.247403\n",
              "1      -5.897760  14.667762\n",
              "2     -17.295936 -14.497515\n",
              "3      -9.546905   3.467422\n",
              "4     -14.519941 -12.888214\n",
              "...          ...        ...\n",
              "3392  -13.141270  -5.906148\n",
              "3393   -9.167167 -12.908790\n",
              "3394  626.393327  12.730364\n",
              "3395  -18.116642 -15.086283\n",
              "3396  -10.443851  18.523946\n",
              "\n",
              "[3397 rows x 2 columns]"
            ]
          },
          "metadata": {},
          "execution_count": 166
        }
      ]
    },
    {
      "cell_type": "markdown",
      "metadata": {
        "id": "j7VuAcqyZP2s"
      },
      "source": [
        "plotting the clustring "
      ]
    },
    {
      "cell_type": "markdown",
      "metadata": {
        "id": "AQClnFLOvTUI"
      },
      "source": [
        "here we will plotting the points with 0 value in feature T in blue and the points with 1 in red"
      ]
    },
    {
      "cell_type": "code",
      "metadata": {
        "id": "KCiM48ort0lp"
      },
      "source": [
        "n=y.loc[y['T'] == 1]\n",
        "nn=y.loc[y['T'] == 0]\n",
        "\n",
        "u=n.index\n",
        "u1=nn.index\n",
        "b=np.array(u)\n",
        "r=np.array(u1)"
      ],
      "execution_count": 205,
      "outputs": []
    },
    {
      "cell_type": "code",
      "metadata": {
        "id": "jxhiRpQZfIH_",
        "outputId": "f6f46a97-e2f1-491f-a7db-a10127145cb5",
        "colab": {
          "base_uri": "https://localhost:8080/",
          "height": 417
        }
      },
      "source": [
        "\n",
        "\n",
        "\n",
        "\n",
        "\n",
        "\n",
        "\n",
        "\n",
        "\n",
        "plt.subplots(1, 3, figsize=(14, 6))\n",
        "plt.subplot(1,3,1,aspect=\"equal\")\n",
        "plt.scatter(X_rbf[r, 0], X_rbf[r, 1], c=\"red\", s=20, edgecolor=\"k\")\n",
        "plt.scatter(X_rbf[b, 0], X_rbf[b, 1], c=\"blue\", s=20, edgecolor=\"k\")\n",
        "plt.title(\"Projection by KPCA rbf\")\n",
        "plt.xlabel(r\"1st principal component in space induced by $\\phi$\")\n",
        "plt.ylabel(\"2nd component\")\n",
        "\n",
        "plt.subplot(1, 3, 2, aspect=\"equal\")\n",
        "plt.scatter(X_lin[r, 0], X_lin[r, 1], c=\"red\", s=20, edgecolor=\"k\")\n",
        "plt.scatter(X_lin[b, 0], X_lin[b, 1], c=\"blue\", s=20, edgecolor=\"k\")\n",
        "plt.title(\"Projection by KPCA lin\")\n",
        "plt.xlabel(r\"1st principal component in space induced by $\\phi$\")\n",
        "plt.ylabel(\"2nd component\")\n",
        "\n",
        "plt.subplot(1, 3, 3, aspect=\"equal\")\n",
        "plt.scatter(X_poly[r, 0], X_poly[r, 1], c=\"red\", s=20, edgecolor=\"k\")\n",
        "plt.scatter(X_poly[b, 0], X_poly[b, 1], c=\"blue\", s=20, edgecolor=\"k\")\n",
        "plt.title(\"Projection by KPCA poly\")\n",
        "plt.xlabel(r\"1st principal component in space induced by $\\phi$\")\n",
        "plt.ylabel(\"2nd component\")\n",
        "\n",
        "\n",
        "plt.tight_layout()\n",
        "plt.show()"
      ],
      "execution_count": 209,
      "outputs": [
        {
          "output_type": "display_data",
          "data": {
            "text/plain": [
              "<Figure size 432x288 with 0 Axes>"
            ]
          },
          "metadata": {}
        },
        {
          "output_type": "display_data",
          "data": {
            "image/png": "[encoded data removed]",
            "text/plain": [
              "<Figure size 1008x432 with 3 Axes>"
            ]
          },
          "metadata": {
            "needs_background": "light"
          }
        }
      ]
    },
    {
      "cell_type": "markdown",
      "metadata": {
        "id": "YkuTDnx5bjz6"
      },
      "source": [
        "**Fitting random forrest  to the  Training set resulting from Kpca**"
      ]
    },
    {
      "cell_type": "markdown",
      "metadata": {
        "id": "E3M7ZaAwcZuM"
      },
      "source": [
        "from rbf kernel"
      ]
    },
    {
      "cell_type": "code",
      "metadata": {
        "id": "P0eTLInBR_kR",
        "outputId": "38549ac0-eaad-4d1d-c3fc-dabba43c8e9e",
        "colab": {
          "base_uri": "https://localhost:8080/"
        }
      },
      "source": [
        "X_train, X_test, y_train, y_test = train_test_split(X_rbf, y, test_size=0.3, random_state=0)\n",
        "rfc = RandomForestClassifier(max_depth=5, min_samples_split=5, n_estimators=1000,\n",
        "                       random_state=15)\n",
        "rfc.fit(X_train, y_train)\n",
        "rfc.score(X_test,y_test)\n"
      ],
      "execution_count": 211,
      "outputs": [
        {
          "output_type": "stream",
          "name": "stderr",
          "text": [
            "/usr/local/lib/python3.7/dist-packages/ipykernel_launcher.py:4: DataConversionWarning: A column-vector y was passed when a 1d array was expected. Please change the shape of y to (n_samples,), for example using ravel().\n",
            "  after removing the cwd from sys.path.\n"
          ]
        },
        {
          "output_type": "execute_result",
          "data": {
            "text/plain": [
              "0.8049019607843138"
            ]
          },
          "metadata": {},
          "execution_count": 211
        }
      ]
    },
    {
      "cell_type": "markdown",
      "metadata": {
        "id": "uTIbANwRclga"
      },
      "source": [
        "from linear kernel "
      ]
    },
    {
      "cell_type": "code",
      "metadata": {
        "id": "CK_UDrO6cyCL",
        "outputId": "51c066e9-0733-4dd5-bb1c-d03c8c6972a4",
        "colab": {
          "base_uri": "https://localhost:8080/"
        }
      },
      "source": [
        "X_train, X_test, y_train, y_test = train_test_split(X_lin, y, test_size=0.3, random_state=0)\n",
        "rfc = RandomForestClassifier(max_depth=5, min_samples_split=5, n_estimators=1000,\n",
        "                       random_state=15)\n",
        "rfc.fit(X_train, y_train)\n",
        "rfc.score(X_test,y_test)"
      ],
      "execution_count": 169,
      "outputs": [
        {
          "output_type": "stream",
          "name": "stderr",
          "text": [
            "/usr/local/lib/python3.7/dist-packages/ipykernel_launcher.py:4: DataConversionWarning: A column-vector y was passed when a 1d array was expected. Please change the shape of y to (n_samples,), for example using ravel().\n",
            "  after removing the cwd from sys.path.\n"
          ]
        },
        {
          "output_type": "execute_result",
          "data": {
            "text/plain": [
              "0.8088235294117647"
            ]
          },
          "metadata": {},
          "execution_count": 169
        }
      ]
    },
    {
      "cell_type": "markdown",
      "metadata": {
        "id": "wKrysvHedwVC"
      },
      "source": [
        "from poly kernel"
      ]
    },
    {
      "cell_type": "code",
      "metadata": {
        "id": "tf7bpmlmd2Wt",
        "outputId": "67c6dc78-dd01-453f-bc30-11b5fa105f6b",
        "colab": {
          "base_uri": "https://localhost:8080/"
        }
      },
      "source": [
        "X_train, X_test, y_train, y_test = train_test_split(X_poly, y, test_size=0.3, random_state=0)\n",
        "rfc = RandomForestClassifier(max_depth=5, min_samples_split=5, n_estimators=1000,\n",
        "                       random_state=15)\n",
        "rfc.fit(X_train, y_train)\n",
        "rfc.score(X_test,y_test)"
      ],
      "execution_count": 170,
      "outputs": [
        {
          "output_type": "stream",
          "name": "stderr",
          "text": [
            "/usr/local/lib/python3.7/dist-packages/ipykernel_launcher.py:4: DataConversionWarning: A column-vector y was passed when a 1d array was expected. Please change the shape of y to (n_samples,), for example using ravel().\n",
            "  after removing the cwd from sys.path.\n"
          ]
        },
        {
          "output_type": "execute_result",
          "data": {
            "text/plain": [
              "0.8058823529411765"
            ]
          },
          "metadata": {},
          "execution_count": 170
        }
      ]
    }
  ]
}