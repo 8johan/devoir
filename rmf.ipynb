{
  "nbformat": 4,
  "nbformat_minor": 0,
  "metadata": {
    "colab": {
      "name": "Bienvenue dans Colaboratory",
      "provenance": [],
      "collapsed_sections": [],
      "include_colab_link": true
    },
    "kernelspec": {
      "display_name": "Python 3",
      "name": "python3"
    }
  },
  "cells": [
    {
      "cell_type": "markdown",
      "metadata": {
        "id": "view-in-github",
        "colab_type": "text"
      },
      "source": [
        "<a href=\"https://colab.research.google.com/github/8johan/devoir/blob/main/rmf.ipynb\" target=\"_parent\"><img src=\"https://colab.research.google.com/assets/colab-badge.svg\" alt=\"Open In Colab\"/></a>"
      ]
    },
    {
      "cell_type": "markdown",
      "metadata": {
        "id": "NBkgyjIcWl7t"
      },
      "source": [
        "This Database contains 3397 patients for the consideration of Testosterone Deficiency. The Research Ethics Committee of the State University of Feira de Santana, Bahia, Brazil, approved the study with the ethical approval code: 3,057,301.\n",
        "\n",
        "All six features were obtained by low-cost exams/informations, which enable other researchers to add new data and try different algorithms.\n",
        "\n",
        "Features:\n",
        "\n",
        "Age: in years (we only considered patients aged from 45-85 years);\n",
        "Triglycerides (TG): Integer Numbers (mg/dl);\n",
        "Waist Circumference (WC): in centimeters (medical literature usually thresholds at 102cm);\n",
        "HDL: Integer numbers (mg/dl);\n",
        "Hypertension: Binary, in which 1 is presence, and 0 is absence;\n",
        "Diabetes: Binary, in which 1 is presence, and 0 is absence.\n",
        "Target:\n",
        "\n",
        "T: Testosterone (Medical Literature suggests a deficiency when T<300 ng/dl).\n",
        "link to data https://github.com/osmarluiz/Testosterone-Deficiency-Dataset/blob/main/ptestost.xlsx?raw=true\n"
      ]
    },
    {
      "cell_type": "markdown",
      "metadata": {
        "id": "05y_tD1tXIRs"
      },
      "source": [
        ""
      ]
    },
    {
      "cell_type": "code",
      "metadata": {
        "id": "C4HZx7Gndbrh"
      },
      "source": [
        "import pandas as pd\n",
        "import numpy as np\n",
        "\n",
        "from sklearn.model_selection import KFold\n",
        "from sklearn.model_selection import GroupKFold\n",
        "from sklearn.model_selection import GridSearchCV\n",
        "\n",
        "\n",
        "import pandas as pd\n",
        "import numpy as np\n",
        "from matplotlib import pyplot as plt\n",
        "%matplotlib inline\n",
        "import seaborn as sns\n",
        "import xgboost as xgb\n",
        "from sklearn.ensemble import RandomForestClassifier\n",
        "\n",
        "from sklearn.metrics import confusion_matrix\n",
        "from sklearn.metrics import balanced_accuracy_score\n",
        "from sklearn.model_selection import learning_curve\n",
        "from sklearn.model_selection import ShuffleSplit\n",
        "\n",
        "import matplotlib.pyplot as plt"
      ],
      "execution_count": 2,
      "outputs": []
    },
    {
      "cell_type": "code",
      "metadata": {
        "id": "SyHb1OpxhXDA"
      },
      "source": [
        "#import the data \n",
        "x=pd.read_excel('ptestost.xlsx', index_col=0)  "
      ],
      "execution_count": 4,
      "outputs": []
    },
    {
      "cell_type": "code",
      "metadata": {
        "colab": {
          "base_uri": "https://localhost:8080/",
          "height": 394
        },
        "id": "cWdxIEAPkmYJ",
        "outputId": "7165d484-7c70-4981-dbda-8aef15055845"
      },
      "source": [
        "x.head\n",
        "xp=x.to_csv\n",
        "x.shape\n",
        "x.head(10)"
      ],
      "execution_count": 56,
      "outputs": [
        {
          "output_type": "execute_result",
          "data": {
            "text/html": [
              "<div>\n",
              "<style scoped>\n",
              "    .dataframe tbody tr th:only-of-type {\n",
              "        vertical-align: middle;\n",
              "    }\n",
              "\n",
              "    .dataframe tbody tr th {\n",
              "        vertical-align: top;\n",
              "    }\n",
              "\n",
              "    .dataframe thead th {\n",
              "        text-align: right;\n",
              "    }\n",
              "</style>\n",
              "<table border=\"1\" class=\"dataframe\">\n",
              "  <thead>\n",
              "    <tr style=\"text-align: right;\">\n",
              "      <th></th>\n",
              "      <th>DM</th>\n",
              "      <th>TG</th>\n",
              "      <th>HT</th>\n",
              "      <th>HDL</th>\n",
              "      <th>AC</th>\n",
              "      <th>T</th>\n",
              "    </tr>\n",
              "    <tr>\n",
              "      <th>Age</th>\n",
              "      <th></th>\n",
              "      <th></th>\n",
              "      <th></th>\n",
              "      <th></th>\n",
              "      <th></th>\n",
              "      <th></th>\n",
              "    </tr>\n",
              "  </thead>\n",
              "  <tbody>\n",
              "    <tr>\n",
              "      <th>60</th>\n",
              "      <td>0</td>\n",
              "      <td>145</td>\n",
              "      <td>1</td>\n",
              "      <td>35.0</td>\n",
              "      <td>114.0</td>\n",
              "      <td>0</td>\n",
              "    </tr>\n",
              "    <tr>\n",
              "      <th>75</th>\n",
              "      <td>0</td>\n",
              "      <td>93</td>\n",
              "      <td>0</td>\n",
              "      <td>48.0</td>\n",
              "      <td>84.0</td>\n",
              "      <td>0</td>\n",
              "    </tr>\n",
              "    <tr>\n",
              "      <th>50</th>\n",
              "      <td>0</td>\n",
              "      <td>151</td>\n",
              "      <td>0</td>\n",
              "      <td>57.0</td>\n",
              "      <td>99.0</td>\n",
              "      <td>0</td>\n",
              "    </tr>\n",
              "    <tr>\n",
              "      <th>62</th>\n",
              "      <td>0</td>\n",
              "      <td>178</td>\n",
              "      <td>1</td>\n",
              "      <td>28.0</td>\n",
              "      <td>109.0</td>\n",
              "      <td>0</td>\n",
              "    </tr>\n",
              "    <tr>\n",
              "      <th>55</th>\n",
              "      <td>0</td>\n",
              "      <td>138</td>\n",
              "      <td>1</td>\n",
              "      <td>62.0</td>\n",
              "      <td>98.0</td>\n",
              "      <td>0</td>\n",
              "    </tr>\n",
              "    <tr>\n",
              "      <th>79</th>\n",
              "      <td>0</td>\n",
              "      <td>146</td>\n",
              "      <td>1</td>\n",
              "      <td>42.0</td>\n",
              "      <td>100.0</td>\n",
              "      <td>0</td>\n",
              "    </tr>\n",
              "    <tr>\n",
              "      <th>63</th>\n",
              "      <td>1</td>\n",
              "      <td>245</td>\n",
              "      <td>1</td>\n",
              "      <td>35.0</td>\n",
              "      <td>97.0</td>\n",
              "      <td>0</td>\n",
              "    </tr>\n",
              "    <tr>\n",
              "      <th>53</th>\n",
              "      <td>0</td>\n",
              "      <td>163</td>\n",
              "      <td>0</td>\n",
              "      <td>55.0</td>\n",
              "      <td>94.0</td>\n",
              "      <td>0</td>\n",
              "    </tr>\n",
              "    <tr>\n",
              "      <th>69</th>\n",
              "      <td>0</td>\n",
              "      <td>67</td>\n",
              "      <td>0</td>\n",
              "      <td>60.0</td>\n",
              "      <td>107.0</td>\n",
              "      <td>0</td>\n",
              "    </tr>\n",
              "    <tr>\n",
              "      <th>70</th>\n",
              "      <td>0</td>\n",
              "      <td>92</td>\n",
              "      <td>0</td>\n",
              "      <td>54.0</td>\n",
              "      <td>92.0</td>\n",
              "      <td>0</td>\n",
              "    </tr>\n",
              "  </tbody>\n",
              "</table>\n",
              "</div>"
            ],
            "text/plain": [
              "     DM   TG  HT   HDL     AC  T\n",
              "Age                             \n",
              "60    0  145   1  35.0  114.0  0\n",
              "75    0   93   0  48.0   84.0  0\n",
              "50    0  151   0  57.0   99.0  0\n",
              "62    0  178   1  28.0  109.0  0\n",
              "55    0  138   1  62.0   98.0  0\n",
              "79    0  146   1  42.0  100.0  0\n",
              "63    1  245   1  35.0   97.0  0\n",
              "53    0  163   0  55.0   94.0  0\n",
              "69    0   67   0  60.0  107.0  0\n",
              "70    0   92   0  54.0   92.0  0"
            ]
          },
          "metadata": {},
          "execution_count": 56
        }
      ]
    },
    {
      "cell_type": "code",
      "metadata": {
        "colab": {
          "base_uri": "https://localhost:8080/",
          "height": 300
        },
        "id": "pRShw-Mapt_0",
        "outputId": "8790981e-4a45-45cc-d1e7-be9ceb9b6897"
      },
      "source": [
        "x.describe()"
      ],
      "execution_count": 17,
      "outputs": [
        {
          "output_type": "execute_result",
          "data": {
            "text/html": [
              "<div>\n",
              "<style scoped>\n",
              "    .dataframe tbody tr th:only-of-type {\n",
              "        vertical-align: middle;\n",
              "    }\n",
              "\n",
              "    .dataframe tbody tr th {\n",
              "        vertical-align: top;\n",
              "    }\n",
              "\n",
              "    .dataframe thead th {\n",
              "        text-align: right;\n",
              "    }\n",
              "</style>\n",
              "<table border=\"1\" class=\"dataframe\">\n",
              "  <thead>\n",
              "    <tr style=\"text-align: right;\">\n",
              "      <th></th>\n",
              "      <th>DM</th>\n",
              "      <th>TG</th>\n",
              "      <th>HT</th>\n",
              "      <th>HDL</th>\n",
              "      <th>AC</th>\n",
              "      <th>T</th>\n",
              "    </tr>\n",
              "  </thead>\n",
              "  <tbody>\n",
              "    <tr>\n",
              "      <th>count</th>\n",
              "      <td>3397.000000</td>\n",
              "      <td>3397.000000</td>\n",
              "      <td>3397.000000</td>\n",
              "      <td>3397.000000</td>\n",
              "      <td>3397.000000</td>\n",
              "      <td>3397.000000</td>\n",
              "    </tr>\n",
              "    <tr>\n",
              "      <th>mean</th>\n",
              "      <td>0.388578</td>\n",
              "      <td>155.269650</td>\n",
              "      <td>0.511922</td>\n",
              "      <td>46.325493</td>\n",
              "      <td>98.916515</td>\n",
              "      <td>0.193112</td>\n",
              "    </tr>\n",
              "    <tr>\n",
              "      <th>std</th>\n",
              "      <td>0.487499</td>\n",
              "      <td>88.840249</td>\n",
              "      <td>0.499931</td>\n",
              "      <td>10.960146</td>\n",
              "      <td>10.629471</td>\n",
              "      <td>0.394798</td>\n",
              "    </tr>\n",
              "    <tr>\n",
              "      <th>min</th>\n",
              "      <td>0.000000</td>\n",
              "      <td>12.000000</td>\n",
              "      <td>0.000000</td>\n",
              "      <td>13.000000</td>\n",
              "      <td>43.000000</td>\n",
              "      <td>0.000000</td>\n",
              "    </tr>\n",
              "    <tr>\n",
              "      <th>25%</th>\n",
              "      <td>0.000000</td>\n",
              "      <td>97.000000</td>\n",
              "      <td>0.000000</td>\n",
              "      <td>39.000000</td>\n",
              "      <td>92.000000</td>\n",
              "      <td>0.000000</td>\n",
              "    </tr>\n",
              "    <tr>\n",
              "      <th>50%</th>\n",
              "      <td>0.000000</td>\n",
              "      <td>136.000000</td>\n",
              "      <td>1.000000</td>\n",
              "      <td>45.000000</td>\n",
              "      <td>98.000000</td>\n",
              "      <td>0.000000</td>\n",
              "    </tr>\n",
              "    <tr>\n",
              "      <th>75%</th>\n",
              "      <td>1.000000</td>\n",
              "      <td>183.000000</td>\n",
              "      <td>1.000000</td>\n",
              "      <td>52.000000</td>\n",
              "      <td>105.000000</td>\n",
              "      <td>0.000000</td>\n",
              "    </tr>\n",
              "    <tr>\n",
              "      <th>max</th>\n",
              "      <td>1.000000</td>\n",
              "      <td>980.000000</td>\n",
              "      <td>1.000000</td>\n",
              "      <td>116.000000</td>\n",
              "      <td>198.000000</td>\n",
              "      <td>1.000000</td>\n",
              "    </tr>\n",
              "  </tbody>\n",
              "</table>\n",
              "</div>"
            ],
            "text/plain": [
              "                DM           TG  ...           AC            T\n",
              "count  3397.000000  3397.000000  ...  3397.000000  3397.000000\n",
              "mean      0.388578   155.269650  ...    98.916515     0.193112\n",
              "std       0.487499    88.840249  ...    10.629471     0.394798\n",
              "min       0.000000    12.000000  ...    43.000000     0.000000\n",
              "25%       0.000000    97.000000  ...    92.000000     0.000000\n",
              "50%       0.000000   136.000000  ...    98.000000     0.000000\n",
              "75%       1.000000   183.000000  ...   105.000000     0.000000\n",
              "max       1.000000   980.000000  ...   198.000000     1.000000\n",
              "\n",
              "[8 rows x 6 columns]"
            ]
          },
          "metadata": {},
          "execution_count": 17
        }
      ]
    },
    {
      "cell_type": "code",
      "metadata": {
        "colab": {
          "base_uri": "https://localhost:8080/",
          "height": 1000
        },
        "id": "RvtH_3DooNyr",
        "outputId": "7a4e1d3e-3b54-4bd2-bb91-e795e8907800"
      },
      "source": [
        "## Correlation\n",
        "import seaborn as sns\n",
        "import matplotlib.pyplot as plt\n",
        "#get correlations of each features in dataset\n",
        "\n",
        "corrmat =x.corr()\n",
        "top_corr_features = corrmat.index\n",
        "plt.figure(figsize=(20,20))\n",
        "#plot heat map\n",
        "g=sns.heatmap(x[top_corr_features].corr(),annot=True,cmap=\"RdYlGn\")"
      ],
      "execution_count": 15,
      "outputs": [
        {
          "output_type": "display_data",
          "data": {
            "image/png": "[encoded data removed]",
            "text/plain": [
              "<Figure size 1440x1440 with 2 Axes>"
            ]
          },
          "metadata": {
            "needs_background": "light"
          }
        }
      ]
    },
    {
      "cell_type": "code",
      "metadata": {
        "colab": {
          "base_uri": "https://localhost:8080/",
          "height": 238
        },
        "id": "4a_-8StQpAfn",
        "outputId": "ad46981c-4112-4b5d-8374-81313705b98d"
      },
      "source": [
        "x.corr()"
      ],
      "execution_count": 16,
      "outputs": [
        {
          "output_type": "execute_result",
          "data": {
            "text/html": [
              "<div>\n",
              "<style scoped>\n",
              "    .dataframe tbody tr th:only-of-type {\n",
              "        vertical-align: middle;\n",
              "    }\n",
              "\n",
              "    .dataframe tbody tr th {\n",
              "        vertical-align: top;\n",
              "    }\n",
              "\n",
              "    .dataframe thead th {\n",
              "        text-align: right;\n",
              "    }\n",
              "</style>\n",
              "<table border=\"1\" class=\"dataframe\">\n",
              "  <thead>\n",
              "    <tr style=\"text-align: right;\">\n",
              "      <th></th>\n",
              "      <th>DM</th>\n",
              "      <th>TG</th>\n",
              "      <th>HT</th>\n",
              "      <th>HDL</th>\n",
              "      <th>AC</th>\n",
              "      <th>T</th>\n",
              "    </tr>\n",
              "  </thead>\n",
              "  <tbody>\n",
              "    <tr>\n",
              "      <th>DM</th>\n",
              "      <td>1.000000</td>\n",
              "      <td>0.130495</td>\n",
              "      <td>0.170677</td>\n",
              "      <td>-0.064131</td>\n",
              "      <td>0.229361</td>\n",
              "      <td>0.134780</td>\n",
              "    </tr>\n",
              "    <tr>\n",
              "      <th>TG</th>\n",
              "      <td>0.130495</td>\n",
              "      <td>1.000000</td>\n",
              "      <td>0.053504</td>\n",
              "      <td>-0.305067</td>\n",
              "      <td>0.227617</td>\n",
              "      <td>0.206086</td>\n",
              "    </tr>\n",
              "    <tr>\n",
              "      <th>HT</th>\n",
              "      <td>0.170677</td>\n",
              "      <td>0.053504</td>\n",
              "      <td>1.000000</td>\n",
              "      <td>-0.083300</td>\n",
              "      <td>0.213183</td>\n",
              "      <td>0.107686</td>\n",
              "    </tr>\n",
              "    <tr>\n",
              "      <th>HDL</th>\n",
              "      <td>-0.064131</td>\n",
              "      <td>-0.305067</td>\n",
              "      <td>-0.083300</td>\n",
              "      <td>1.000000</td>\n",
              "      <td>-0.197804</td>\n",
              "      <td>-0.109804</td>\n",
              "    </tr>\n",
              "    <tr>\n",
              "      <th>AC</th>\n",
              "      <td>0.229361</td>\n",
              "      <td>0.227617</td>\n",
              "      <td>0.213183</td>\n",
              "      <td>-0.197804</td>\n",
              "      <td>1.000000</td>\n",
              "      <td>0.303493</td>\n",
              "    </tr>\n",
              "    <tr>\n",
              "      <th>T</th>\n",
              "      <td>0.134780</td>\n",
              "      <td>0.206086</td>\n",
              "      <td>0.107686</td>\n",
              "      <td>-0.109804</td>\n",
              "      <td>0.303493</td>\n",
              "      <td>1.000000</td>\n",
              "    </tr>\n",
              "  </tbody>\n",
              "</table>\n",
              "</div>"
            ],
            "text/plain": [
              "           DM        TG        HT       HDL        AC         T\n",
              "DM   1.000000  0.130495  0.170677 -0.064131  0.229361  0.134780\n",
              "TG   0.130495  1.000000  0.053504 -0.305067  0.227617  0.206086\n",
              "HT   0.170677  0.053504  1.000000 -0.083300  0.213183  0.107686\n",
              "HDL -0.064131 -0.305067 -0.083300  1.000000 -0.197804 -0.109804\n",
              "AC   0.229361  0.227617  0.213183 -0.197804  1.000000  0.303493\n",
              "T    0.134780  0.206086  0.107686 -0.109804  0.303493  1.000000"
            ]
          },
          "metadata": {},
          "execution_count": 16
        }
      ]
    },
    {
      "cell_type": "code",
      "metadata": {
        "colab": {
          "base_uri": "https://localhost:8080/"
        },
        "id": "eHdlApcvqV8c",
        "outputId": "c4ee33e4-428f-4886-fec1-f90b612f0a6a"
      },
      "source": [
        "\n",
        "T_INF_300_true = len(x.loc[x['T'] == 1])\n",
        "T_SUP_300_false = len(x.loc[x['T'] == 0])\n",
        "(T_INF_300_true,T_SUP_300_false)"
      ],
      "execution_count": 21,
      "outputs": [
        {
          "output_type": "execute_result",
          "data": {
            "text/plain": [
              "(656, 2741)"
            ]
          },
          "metadata": {},
          "execution_count": 21
        }
      ]
    },
    {
      "cell_type": "markdown",
      "metadata": {
        "id": "3bc7ApAHXyFi"
      },
      "source": [
        "train data and test data"
      ]
    },
    {
      "cell_type": "code",
      "metadata": {
        "id": "7XGelDY_ufVS"
      },
      "source": [
        "from sklearn.model_selection import train_test_split\n",
        "feature_columns = ['DM', 'TG', 'HT', 'HDL', 'AC']\n",
        "predicted_class = ['T']"
      ],
      "execution_count": 22,
      "outputs": []
    },
    {
      "cell_type": "code",
      "metadata": {
        "id": "o8TVroTPvkV0"
      },
      "source": [
        "X = x[feature_columns].values\n",
        "y = x[predicted_class].values\n",
        "X_train, X_test, y_train, y_test = train_test_split(X, y, test_size = 0.30, random_state=10)"
      ],
      "execution_count": 24,
      "outputs": []
    },
    {
      "cell_type": "markdown",
      "metadata": {
        "id": "qCc5xGkWX8kr"
      },
      "source": [
        "construction of modele "
      ]
    },
    {
      "cell_type": "code",
      "metadata": {
        "colab": {
          "base_uri": "https://localhost:8080/",
          "height": 365
        },
        "id": "kS41WdWeyjTH",
        "outputId": "8b232cfe-9790-4b03-cb18-ddc84c044f05"
      },
      "source": [
        "from sklearn.metrics import accuracy_score, make_scorer,f1_score, precision_score, recall_score, confusion_matrix\n",
        "rm= RandomForestClassifier(random_state=20)\n",
        "rm.fit(X_train, y_train.ravel())\n",
        "y_pred_train=rm.predict(X_train)\n",
        "y_pred= rm.predict(X_test)\n",
        "sns.heatmap(confusion_matrix(y_test, y_pred), annot=True, cmap=\"YlGn\")\n",
        "plt.title(' Random Forest Classifier ')\n",
        "plt.ylabel('True label')\n",
        "plt.xlabel('Predicted label')\n",
        "plt.show()\n",
        "print(\"the f1 score for Random Forest Classifier is :\",(f1_score(y_test, y_pred, average=\"macro\")))\n",
        "print(\"the precision score is :\",(precision_score(y_test, y_pred, average=\"macro\")))\n",
        "print(\"the recall score is :\",(recall_score(y_test, y_pred, average=\"macro\")))  \n",
        "rm.score(X_test, y_test)"
      ],
      "execution_count": 70,
      "outputs": [
        {
          "output_type": "display_data",
          "data": {
            "image/png": "[encoded data removed]",
            "text/plain": [
              "<Figure size 432x288 with 2 Axes>"
            ]
          },
          "metadata": {
            "needs_background": "light"
          }
        },
        {
          "output_type": "stream",
          "name": "stdout",
          "text": [
            "the f1 score for Random Forest Classifier is : 0.6013793103448275\n",
            "the precision score is : 0.6723039983296795\n",
            "the recall score is : 0.5882667522327397\n"
          ]
        },
        {
          "output_type": "execute_result",
          "data": {
            "text/plain": [
              "0.8"
            ]
          },
          "metadata": {},
          "execution_count": 70
        }
      ]
    },
    {
      "cell_type": "code",
      "metadata": {
        "colab": {
          "base_uri": "https://localhost:8080/"
        },
        "id": "fAqpZa5I7CRp",
        "outputId": "9f05b0cd-07f6-466a-82aa-e7704561466e"
      },
      "source": [
        "from sklearn import metrics\n",
        "print(\"Accuracy  train  = {0:.3f}\".format(metrics.accuracy_score(y_train, y_pred_train)))\n",
        "print(\"Accuracy  test = {0:.3f}\".format(metrics.accuracy_score(y_test, y_pred)))"
      ],
      "execution_count": 69,
      "outputs": [
        {
          "output_type": "stream",
          "name": "stdout",
          "text": [
            "Accuracy  train  = 0.999\n",
            "Accuracy  test = 0.800\n"
          ]
        }
      ]
    },
    {
      "cell_type": "markdown",
      "metadata": {
        "id": "35LL1TNWZGX-"
      },
      "source": [
        "we can see that the model achieved an estimated classification accuracy of about 80 percent the test data and 99.99 percent for train data "
      ]
    },
    {
      "cell_type": "markdown",
      "metadata": {
        "id": "-VcIrYfTYOxN"
      },
      "source": [
        "Hyperparameter optimization using RandomizedSearchCV"
      ]
    },
    {
      "cell_type": "code",
      "metadata": {
        "colab": {
          "base_uri": "https://localhost:8080/"
        },
        "id": "9yF4ZL1K-CVy",
        "outputId": "6f83f35e-5fad-482a-d096-4c364e0f228a"
      },
      "source": [
        "params={'n_estimators': [ 100, 150, 250, 450, 500,700,800,1000],\n",
        "        'min_samples_split':[2,3,4,5],\n",
        " \"max_depth\"        : [ 3, 4, 5, 6, 8, 10, 12, 15,17,20,25],\n",
        " 'random_state':[10,15,20,30,50,75,100]\n",
        " \n",
        " \n",
        "    \n",
        "}\n",
        "from sklearn.model_selection import RandomizedSearchCV\n",
        "import xgboost\n",
        "\n",
        "\n",
        "random_search=RandomizedSearchCV(rm,param_distributions=params,n_iter=5,scoring='roc_auc',n_jobs=-1,cv=5,verbose=3)\n",
        "random_search.fit(X,y.ravel())\n",
        "random_search.best_estimator_\n"
      ],
      "execution_count": 76,
      "outputs": [
        {
          "output_type": "stream",
          "name": "stdout",
          "text": [
            "Fitting 5 folds for each of 5 candidates, totalling 25 fits\n"
          ]
        },
        {
          "output_type": "execute_result",
          "data": {
            "text/plain": [
              "RandomForestClassifier(max_depth=4, random_state=10)"
            ]
          },
          "metadata": {},
          "execution_count": 76
        }
      ]
    },
    {
      "cell_type": "code",
      "metadata": {
        "id": "ERe1TR5Wd6Lk",
        "outputId": "f9196f97-1f0a-4642-c110-eeef70c81d20",
        "colab": {
          "base_uri": "https://localhost:8080/"
        }
      },
      "source": [
        "# random forest classifier with optimal hyperparameters found above \n",
        "from sklearn.ensemble import RandomForestClassifier\n",
        "from sklearn.metrics import f1_score\n",
        "\n",
        "rfc = RandomForestClassifier( max_depth =4 , random_state = 10 )\n",
        "rfc.fit(X_train, y_train)\n",
        "y_pred_train =  rfc.predict(X_train)\n",
        "y_pred_test = rfc.predict(X_test)\n",
        "train_f1 = f1_score(y_train, y_pred_train)\n",
        "test_f1 = f1_score(y_test, y_pred_test)\n",
        "print(\"Train f1 score = \", train_f1)\n",
        "print(\"Test f1 score = \", test_f1)"
      ],
      "execution_count": 77,
      "outputs": [
        {
          "output_type": "stream",
          "name": "stderr",
          "text": [
            "/usr/local/lib/python3.7/dist-packages/ipykernel_launcher.py:6: DataConversionWarning: A column-vector y was passed when a 1d array was expected. Please change the shape of y to (n_samples,), for example using ravel().\n",
            "  \n"
          ]
        },
        {
          "output_type": "stream",
          "name": "stdout",
          "text": [
            "Train f1 score =  0.164\n",
            "Test f1 score =  0.11206896551724138\n"
          ]
        }
      ]
    },
    {
      "cell_type": "code",
      "metadata": {
        "colab": {
          "base_uri": "https://localhost:8080/"
        },
        "id": "uSt09EfQBSwg",
        "outputId": "45d90d66-6ad1-4d61-83d4-db59b2c763a0"
      },
      "source": [
        "\n",
        "from sklearn.model_selection import cross_val_score\n",
        "from sklearn.model_selection import KFold\n",
        "kf = KFold(shuffle=True, n_splits=5)\n",
        "score=cross_val_score(rfc,X,y.ravel(),cv=kf)\n",
        "score"
      ],
      "execution_count": 78,
      "outputs": [
        {
          "output_type": "execute_result",
          "data": {
            "text/plain": [
              "array([0.83382353, 0.79705882, 0.81001473, 0.81296024, 0.80559647])"
            ]
          },
          "metadata": {},
          "execution_count": 78
        }
      ]
    }
  ]
}